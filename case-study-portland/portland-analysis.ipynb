{
 "cells": [
  {
   "cell_type": "code",
   "execution_count": 24,
   "metadata": {
    "collapsed": true
   },
   "outputs": [],
   "source": [
    "import osmnx as ox, networkx as nx, time, pandas as pd, numpy as np, matplotlib.cm as cm, matplotlib.pyplot as plt, math\n",
    "from shapely.geometry import Polygon\n",
    "ox.config(log_console=True, use_cache=True)\n",
    "%matplotlib inline"
   ]
  },
  {
   "cell_type": "code",
   "execution_count": 2,
   "metadata": {
    "collapsed": true
   },
   "outputs": [],
   "source": [
    "wgs84 = {'init':'epsg:4326'}\n",
    "\n",
    "# define 3 points in portland\n",
    "points = {'downtown':(45.518698, -122.679964),\n",
    "          'laurelhurst':(45.527198, -122.625055),\n",
    "          'northwest_heights':(45.539635, -122.770915)}"
   ]
  },
  {
   "cell_type": "code",
   "execution_count": 3,
   "metadata": {
    "collapsed": false
   },
   "outputs": [],
   "source": [
    "# get a color for each node\n",
    "def get_color_list(n, color_map='plasma', start=0, end=1):\n",
    "    return [cm.get_cmap(color_map)(x) for x in np.linspace(start, end, n)]\n",
    "\n",
    "def get_node_colors_by_stat(G, data, start=0, end=1):\n",
    "    df = pd.DataFrame(data=pd.Series(data).sort_values(), columns=['value'])\n",
    "    df['colors'] = get_color_list(len(df), start=start, end=end)\n",
    "    df = df.reindex(G.nodes())\n",
    "    return df['colors'].tolist()"
   ]
  },
  {
   "cell_type": "code",
   "execution_count": 4,
   "metadata": {
    "collapsed": false
   },
   "outputs": [],
   "source": [
    "df = pd.DataFrame()\n",
    "all_stats = {}\n",
    "for name, point in points.items():\n",
    "    \n",
    "    # create square bbox 354 m in each cardinal direction from point, to make 0.5 sq km bbox\n",
    "    north, south, east, west = ox.bbox_from_point(point, distance=354)\n",
    "    top, bottom, right, left = ox.bbox_from_point(point, distance=354, project_utm=True)\n",
    "    \n",
    "    # project the bbox to calculate its area in square kilometers - should be approx 0.5 sq km\n",
    "    bbox_polygon_utm = Polygon([(left, top), (left, bottom), (right, bottom), (right, top), (left, top)])\n",
    "    area = bbox_polygon_utm.area\n",
    "    \n",
    "    # get the driving network and project it\n",
    "    G = ox.graph_from_bbox(north, south, east, west, network_type='drive')\n",
    "    G_proj = ox.project_graph(G)\n",
    "    \n",
    "    # plot and save the figure\n",
    "    filename = '{}_network'.format(name)\n",
    "    fig, ax = ox.plot_graph(G_proj, fig_height=6, fig_width=6, bbox=(top, bottom, right, left),\n",
    "                            node_color='#336699', node_size=30, node_zorder=2,\n",
    "                            save=True, filename=filename, show=False)\n",
    "    \n",
    "    stats = ox.basic_stats(G, area=area)\n",
    "    extended_stats = ox.extended_stats(G, connectivity=True, anc=True, ecc=True, bc=True, cc=True)\n",
    "    for key in extended_stats:\n",
    "        stats[key] = extended_stats[key]\n",
    "    stats['area_km'] = area / 1e6 #sq m to sq km\n",
    "    stats['node_connectivity_avg_undir'] = nx.average_node_connectivity(G.to_undirected())\n",
    "    \n",
    "    filename = '{}_betweenness_centrality'.format(name)\n",
    "    nc = get_node_colors_by_stat(G_proj, stats['betweenness_centrality'])\n",
    "    fig, ax = ox.plot_graph(G_proj, fig_height=6, fig_width=6, bbox=(top, bottom, right, left),\n",
    "                            node_color=nc, node_size=50, node_zorder=2,\n",
    "                            save=True, filename=filename, show=False)\n",
    "        \n",
    "    all_stats[name] = stats\n",
    "    df = df.append(pd.Series(data=stats, name=name))"
   ]
  },
  {
   "cell_type": "code",
   "execution_count": 5,
   "metadata": {
    "collapsed": false
   },
   "outputs": [
    {
     "data": {
      "text/html": [
       "<div>\n",
       "<table border=\"1\" class=\"dataframe\">\n",
       "  <thead>\n",
       "    <tr style=\"text-align: right;\">\n",
       "      <th></th>\n",
       "      <th>downtown</th>\n",
       "      <th>northwest_heights</th>\n",
       "      <th>laurelhurst</th>\n",
       "    </tr>\n",
       "  </thead>\n",
       "  <tbody>\n",
       "    <tr>\n",
       "      <th>area_km</th>\n",
       "      <td>0.505</td>\n",
       "      <td>0.504</td>\n",
       "      <td>0.506</td>\n",
       "    </tr>\n",
       "    <tr>\n",
       "      <th>avg_neighbor_degree_avg</th>\n",
       "      <td>1.64</td>\n",
       "      <td>2.75</td>\n",
       "      <td>2.976</td>\n",
       "    </tr>\n",
       "    <tr>\n",
       "      <th>avg_weighted_neighbor_degree_avg</th>\n",
       "      <td>0.024</td>\n",
       "      <td>0.03</td>\n",
       "      <td>0.059</td>\n",
       "    </tr>\n",
       "    <tr>\n",
       "      <th>betweenness_centrality_avg</th>\n",
       "      <td>0.07</td>\n",
       "      <td>0.137</td>\n",
       "      <td>0.077</td>\n",
       "    </tr>\n",
       "    <tr>\n",
       "      <th>center</th>\n",
       "      <td>[40528446]</td>\n",
       "      <td>[40618935]</td>\n",
       "      <td>[40495960]</td>\n",
       "    </tr>\n",
       "    <tr>\n",
       "      <th>circuity_avg</th>\n",
       "      <td>1.001</td>\n",
       "      <td>1.09</td>\n",
       "      <td>1.007</td>\n",
       "    </tr>\n",
       "    <tr>\n",
       "      <th>closeness_centrality_avg</th>\n",
       "      <td>0.002</td>\n",
       "      <td>0.002</td>\n",
       "      <td>0.002</td>\n",
       "    </tr>\n",
       "    <tr>\n",
       "      <th>clustering_coefficient_avg</th>\n",
       "      <td>0</td>\n",
       "      <td>0</td>\n",
       "      <td>0.108</td>\n",
       "    </tr>\n",
       "    <tr>\n",
       "      <th>clustering_coefficient_weighted_avg</th>\n",
       "      <td>0</td>\n",
       "      <td>0</td>\n",
       "      <td>0.023</td>\n",
       "    </tr>\n",
       "    <tr>\n",
       "      <th>count_intersections</th>\n",
       "      <td>82</td>\n",
       "      <td>14</td>\n",
       "      <td>55</td>\n",
       "    </tr>\n",
       "    <tr>\n",
       "      <th>degree_centrality_avg</th>\n",
       "      <td>0.042</td>\n",
       "      <td>0.219</td>\n",
       "      <td>0.102</td>\n",
       "    </tr>\n",
       "    <tr>\n",
       "      <th>diameter</th>\n",
       "      <td>1278.31</td>\n",
       "      <td>898.466</td>\n",
       "      <td>1021.9</td>\n",
       "    </tr>\n",
       "    <tr>\n",
       "      <th>edge_connectivity</th>\n",
       "      <td>1</td>\n",
       "      <td>1</td>\n",
       "      <td>1</td>\n",
       "    </tr>\n",
       "    <tr>\n",
       "      <th>edge_density_km</th>\n",
       "      <td>21147.4</td>\n",
       "      <td>10647.6</td>\n",
       "      <td>29277.1</td>\n",
       "    </tr>\n",
       "    <tr>\n",
       "      <th>edge_length_avg</th>\n",
       "      <td>76.261</td>\n",
       "      <td>116.597</td>\n",
       "      <td>97.375</td>\n",
       "    </tr>\n",
       "    <tr>\n",
       "      <th>edge_length_total</th>\n",
       "      <td>10676.5</td>\n",
       "      <td>5363.46</td>\n",
       "      <td>14801.1</td>\n",
       "    </tr>\n",
       "    <tr>\n",
       "      <th>intersection_density_km</th>\n",
       "      <td>162.42</td>\n",
       "      <td>27.793</td>\n",
       "      <td>108.792</td>\n",
       "    </tr>\n",
       "    <tr>\n",
       "      <th>k_avg</th>\n",
       "      <td>3.415</td>\n",
       "      <td>4.381</td>\n",
       "      <td>5.527</td>\n",
       "    </tr>\n",
       "    <tr>\n",
       "      <th>m</th>\n",
       "      <td>140</td>\n",
       "      <td>46</td>\n",
       "      <td>152</td>\n",
       "    </tr>\n",
       "    <tr>\n",
       "      <th>n</th>\n",
       "      <td>82</td>\n",
       "      <td>21</td>\n",
       "      <td>55</td>\n",
       "    </tr>\n",
       "    <tr>\n",
       "      <th>node_connectivity</th>\n",
       "      <td>1</td>\n",
       "      <td>1</td>\n",
       "      <td>1</td>\n",
       "    </tr>\n",
       "    <tr>\n",
       "      <th>node_connectivity_avg</th>\n",
       "      <td>1.326</td>\n",
       "      <td>1.443</td>\n",
       "      <td>2.107</td>\n",
       "    </tr>\n",
       "    <tr>\n",
       "      <th>node_connectivity_avg_undir</th>\n",
       "      <td>2.868</td>\n",
       "      <td>1.443</td>\n",
       "      <td>2.496</td>\n",
       "    </tr>\n",
       "    <tr>\n",
       "      <th>node_density_km</th>\n",
       "      <td>162.42</td>\n",
       "      <td>41.689</td>\n",
       "      <td>108.792</td>\n",
       "    </tr>\n",
       "    <tr>\n",
       "      <th>pagerank_max</th>\n",
       "      <td>0.03</td>\n",
       "      <td>0.106</td>\n",
       "      <td>0.029</td>\n",
       "    </tr>\n",
       "    <tr>\n",
       "      <th>pagerank_max_node</th>\n",
       "      <td>40617168</td>\n",
       "      <td>40470781</td>\n",
       "      <td>40496549</td>\n",
       "    </tr>\n",
       "    <tr>\n",
       "      <th>pagerank_min</th>\n",
       "      <td>0.002</td>\n",
       "      <td>0.017</td>\n",
       "      <td>0.004</td>\n",
       "    </tr>\n",
       "    <tr>\n",
       "      <th>pagerank_min_node</th>\n",
       "      <td>40531456</td>\n",
       "      <td>40652540</td>\n",
       "      <td>40493119</td>\n",
       "    </tr>\n",
       "    <tr>\n",
       "      <th>periphery</th>\n",
       "      <td>[662764989]</td>\n",
       "      <td>[40777134]</td>\n",
       "      <td>[40496035]</td>\n",
       "    </tr>\n",
       "    <tr>\n",
       "      <th>radius</th>\n",
       "      <td>742.926</td>\n",
       "      <td>561.815</td>\n",
       "      <td>537.055</td>\n",
       "    </tr>\n",
       "    <tr>\n",
       "      <th>self_loop_proportion</th>\n",
       "      <td>0</td>\n",
       "      <td>0</td>\n",
       "      <td>0</td>\n",
       "    </tr>\n",
       "    <tr>\n",
       "      <th>street_density_km</th>\n",
       "      <td>21147.4</td>\n",
       "      <td>5323.8</td>\n",
       "      <td>15431.8</td>\n",
       "    </tr>\n",
       "    <tr>\n",
       "      <th>street_length_avg</th>\n",
       "      <td>76.261</td>\n",
       "      <td>116.597</td>\n",
       "      <td>91.783</td>\n",
       "    </tr>\n",
       "    <tr>\n",
       "      <th>street_length_total</th>\n",
       "      <td>10676.5</td>\n",
       "      <td>2681.73</td>\n",
       "      <td>7801.54</td>\n",
       "    </tr>\n",
       "    <tr>\n",
       "      <th>street_segments_count</th>\n",
       "      <td>140</td>\n",
       "      <td>23</td>\n",
       "      <td>85</td>\n",
       "    </tr>\n",
       "    <tr>\n",
       "      <th>streets_per_node_avg</th>\n",
       "      <td>3.927</td>\n",
       "      <td>2.381</td>\n",
       "      <td>3.582</td>\n",
       "    </tr>\n",
       "  </tbody>\n",
       "</table>\n",
       "</div>"
      ],
      "text/plain": [
       "                                        downtown northwest_heights laurelhurst\n",
       "area_km                                    0.505             0.504       0.506\n",
       "avg_neighbor_degree_avg                     1.64              2.75       2.976\n",
       "avg_weighted_neighbor_degree_avg           0.024              0.03       0.059\n",
       "betweenness_centrality_avg                  0.07             0.137       0.077\n",
       "center                                [40528446]        [40618935]  [40495960]\n",
       "circuity_avg                               1.001              1.09       1.007\n",
       "closeness_centrality_avg                   0.002             0.002       0.002\n",
       "clustering_coefficient_avg                     0                 0       0.108\n",
       "clustering_coefficient_weighted_avg            0                 0       0.023\n",
       "count_intersections                           82                14          55\n",
       "degree_centrality_avg                      0.042             0.219       0.102\n",
       "diameter                                 1278.31           898.466      1021.9\n",
       "edge_connectivity                              1                 1           1\n",
       "edge_density_km                          21147.4           10647.6     29277.1\n",
       "edge_length_avg                           76.261           116.597      97.375\n",
       "edge_length_total                        10676.5           5363.46     14801.1\n",
       "intersection_density_km                   162.42            27.793     108.792\n",
       "k_avg                                      3.415             4.381       5.527\n",
       "m                                            140                46         152\n",
       "n                                             82                21          55\n",
       "node_connectivity                              1                 1           1\n",
       "node_connectivity_avg                      1.326             1.443       2.107\n",
       "node_connectivity_avg_undir                2.868             1.443       2.496\n",
       "node_density_km                           162.42            41.689     108.792\n",
       "pagerank_max                                0.03             0.106       0.029\n",
       "pagerank_max_node                       40617168          40470781    40496549\n",
       "pagerank_min                               0.002             0.017       0.004\n",
       "pagerank_min_node                       40531456          40652540    40493119\n",
       "periphery                            [662764989]        [40777134]  [40496035]\n",
       "radius                                   742.926           561.815     537.055\n",
       "self_loop_proportion                           0                 0           0\n",
       "street_density_km                        21147.4            5323.8     15431.8\n",
       "street_length_avg                         76.261           116.597      91.783\n",
       "street_length_total                      10676.5           2681.73     7801.54\n",
       "street_segments_count                        140                23          85\n",
       "streets_per_node_avg                       3.927             2.381       3.582"
      ]
     },
     "execution_count": 5,
     "metadata": {},
     "output_type": "execute_result"
    }
   ],
   "source": [
    "cols = [col for col in df.columns if not isinstance(df.reset_index().loc[0, col], dict)]\n",
    "df_display = pd.DataFrame(df[cols])\n",
    "\n",
    "df_display['pagerank_max_node'] = df_display['pagerank_max_node'].astype(int)\n",
    "df_display['pagerank_min_node'] = df_display['pagerank_min_node'].astype(int)\n",
    "\n",
    "def clean_display(value):\n",
    "    if isinstance(value, float):\n",
    "        value = round(value, 3)\n",
    "    return value\n",
    "\n",
    "df_display = df_display.applymap(clean_display).T\n",
    "df_display"
   ]
  },
  {
   "cell_type": "code",
   "execution_count": 6,
   "metadata": {
    "collapsed": false
   },
   "outputs": [],
   "source": [
    "df_display.to_csv('data/display_table.csv', index=True, encoding='utf-8')"
   ]
  },
  {
   "cell_type": "code",
   "execution_count": 7,
   "metadata": {
    "collapsed": false
   },
   "outputs": [
    {
     "data": {
      "text/plain": [
       "downtown             116.231555\n",
       "northwest_heights      0.000000\n",
       "laurelhurst           18.491290\n",
       "dtype: float64"
      ]
     },
     "execution_count": 7,
     "metadata": {},
     "output_type": "execute_result"
    }
   ],
   "source": [
    "# how much did each network's improve going from directed to undirected?\n",
    "(df['node_connectivity_avg_undir'] / df['node_connectivity_avg'] - 1) * 100"
   ]
  },
  {
   "cell_type": "markdown",
   "metadata": {},
   "source": [
    "If all one-way edges became two-way edges, average node connectivity would increase 116% downtown, 18% in Laurelhurst, and 0% in Northwest Heights."
   ]
  },
  {
   "cell_type": "code",
   "execution_count": 8,
   "metadata": {
    "collapsed": false
   },
   "outputs": [
    {
     "name": "stdout",
     "output_type": "stream",
     "text": [
      "downtown 0.14710737896227669\n",
      "northwest_heights 0.4342105263157895\n",
      "laurelhurst 0.23869924186087288\n"
     ]
    }
   ],
   "source": [
    "# what is the max betwenness centrality in each network?\n",
    "for key in all_stats:\n",
    "    print(key, max(all_stats[key]['betweenness_centrality'].values()))"
   ]
  },
  {
   "cell_type": "code",
   "execution_count": 13,
   "metadata": {
    "collapsed": false
   },
   "outputs": [],
   "source": [
    "# unpack k-counts and k-proportion dicts into individiual keys:values\n",
    "for place in all_stats:\n",
    "    for k, count in all_stats[place]['streets_per_node_counts'].items():\n",
    "        all_stats[place]['int_{}_streets_count'.format(k)] = count\n",
    "    for k, proportion in all_stats[place]['streets_per_node_proportion'].items():\n",
    "        all_stats[place]['int_{}_streets_prop'.format(k)] = proportion"
   ]
  },
  {
   "cell_type": "code",
   "execution_count": 20,
   "metadata": {
    "collapsed": false
   },
   "outputs": [
    {
     "data": {
      "text/plain": [
       "dict_keys(['downtown', 'northwest_heights', 'laurelhurst'])"
      ]
     },
     "execution_count": 20,
     "metadata": {},
     "output_type": "execute_result"
    }
   ],
   "source": [
    "all_stats.keys()"
   ]
  },
  {
   "cell_type": "code",
   "execution_count": 22,
   "metadata": {
    "collapsed": false
   },
   "outputs": [],
   "source": [
    "for place in all_stats:\n",
    "    names.append(place)\n",
    "    proportion_streets_per_intersection.append(all_stats[place]['streets_per_node_proportion'])"
   ]
  },
  {
   "cell_type": "code",
   "execution_count": 38,
   "metadata": {
    "collapsed": false
   },
   "outputs": [
    {
     "data": {
      "image/png": "[encoded data removed]",
      "text/plain": [
       "<matplotlib.figure.Figure at 0x15da5a46b70>"
      ]
     },
     "metadata": {},
     "output_type": "display_data"
    }
   ],
   "source": [
    "n = 3\n",
    "cols = 3\n",
    "rows = 1\n",
    "max_value = 4\n",
    "fig, axes = plt.subplots(rows, cols, figsize=(9, 3))\n",
    "for i, (prop, name) in enumerate(zip(proportion_streets_per_intersection, names)):\n",
    "    \n",
    "    row = math.floor(i / cols)\n",
    "    col = i % cols\n",
    "    ax = axes[col]\n",
    "    \n",
    "    all_others = sum(list(prop.values())[max_value + 1:])\n",
    "    prop = {key:value for key, value in prop.items() if key <= max_value}\n",
    "    prop[max_value + 1] = all_others\n",
    "    lefts = [x - 0.45 for x in prop.keys()]\n",
    "    \n",
    "    ax.bar(left=lefts, height=prop.values(), width=0.9, alpha=0.4, color='k', linewidth=0)\n",
    "    ax.yaxis.grid(True)\n",
    "    xticklabels = list(range(0, max_value + 1)) + ['{}+'.format(max_value + 1)]\n",
    "    ax.set_xticklabels(xticklabels)\n",
    "    \n",
    "    ax.set_title('{}'.format(name.replace('_', ' ').title()), fontsize=12, y=0.99)\n",
    "    ax.set_xlim(0.5, max_value + 1.5)\n",
    "    ax.set_ylim(0, 1)"
   ]
  },
  {
   "cell_type": "code",
   "execution_count": null,
   "metadata": {
    "collapsed": true
   },
   "outputs": [],
   "source": []
  }
 ],
 "metadata": {
  "anaconda-cloud": {},
  "kernelspec": {
   "display_name": "Python [conda root]",
   "language": "python",
   "name": "conda-root-py"
  },
  "language_info": {
   "codemirror_mode": {
    "name": "ipython",
    "version": 3
   },
   "file_extension": ".py",
   "mimetype": "text/x-python",
   "name": "python",
   "nbconvert_exporter": "python",
   "pygments_lexer": "ipython3",
   "version": "3.5.2"
  }
 },
 "nbformat": 4,
 "nbformat_minor": 1
}
