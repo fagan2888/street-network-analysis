{
 "cells": [
  {
   "cell_type": "code",
   "execution_count": 1,
   "metadata": {
    "collapsed": true
   },
   "outputs": [],
   "source": [
    "import osmnx as ox, pandas as pd, networkx as nx, time, geopandas as gpd, os, json\n",
    "%matplotlib inline\n",
    "ox.config(use_cache=True, log_file=True, log_console=True, log_filename='get_neighborhood_graphs',\n",
    "          data_folder='G:/Geoff/osmnx/neighborhoods', cache_folder='G:/Geoff/osmnx/cache/neighborhoods')"
   ]
  },
  {
   "cell_type": "code",
   "execution_count": 2,
   "metadata": {
    "collapsed": true
   },
   "outputs": [],
   "source": [
    "network_type = 'drive_service'\n",
    "retain_all = True\n",
    "buffer = False"
   ]
  },
  {
   "cell_type": "code",
   "execution_count": 3,
   "metadata": {
    "collapsed": true
   },
   "outputs": [],
   "source": [
    "input_folder = 'input_data/neighborhoods' #neighborhood shapefiles\n",
    "output_folder = 'G:/Geoff/osmnx/neighborhoods' #where to save graph shapefiles and graphml"
   ]
  },
  {
   "cell_type": "markdown",
   "metadata": {},
   "source": [
    "## Load census population data"
   ]
  },
  {
   "cell_type": "code",
   "execution_count": 4,
   "metadata": {
    "collapsed": true
   },
   "outputs": [],
   "source": [
    "# load state fips code to state name dict\n",
    "with open('input_data/states_by_fips.json') as f:\n",
    "    fips_to_state = json.load(f)"
   ]
  },
  {
   "cell_type": "code",
   "execution_count": 5,
   "metadata": {
    "collapsed": false
   },
   "outputs": [],
   "source": [
    "# load 2010 decennial census population data by place (CDPs, towns, cities)\n",
    "pops = pd.read_csv('input_data/DEC_10_SF1_P1.csv', encoding='ISO-8859-1').drop(0).reset_index().drop('index', axis=1)\n",
    "pops.columns = ['geoid_full', 'geoid', 'place_name', 'pop10']\n",
    "name = pops['place_name'].str.replace(r' CDP| city| town| village| borough| (balance)| municipality', '')\n",
    "pops['city'] = name.map(lambda x: x.split(',')[0])\n",
    "pops['state_full'] = name.map(lambda x: x.split(',')[1])\n",
    "pops['state'] = pops['geoid'].map(lambda x: fips_to_state[x[0:2]]['abbreviation'])\n",
    "pops['pop10'] = pops['pop10'].astype(int)\n",
    "pops = pops[['geoid', 'state', 'city', 'pop10']]"
   ]
  },
  {
   "cell_type": "code",
   "execution_count": 6,
   "metadata": {
    "collapsed": false
   },
   "outputs": [],
   "source": [
    "# rename cities to match zillow data\n",
    "pops_city_replace = {'Nashville-Davidson metropolitan government (balance)':'Nashville',\n",
    "                     'St. Louis':'Saint Louis',\n",
    "                     'Louisville/Jefferson County metro government (balance)':'Louisville',\n",
    "                     'Augusta-Richmond County consolidated government (balance)':'Augusta',\n",
    "                     'Lexington-Fayette urban county':'Lexington',\n",
    "                     'Urban Honolulu':'Honolulu',\n",
    "                     'Boise City':'Boise',\n",
    "                     'St. Paul':'Saint Paul',\n",
    "                     'St. Petersburg':'Saint Petersburg'}\n",
    "pops['city'] = pops['city'].replace(pops_city_replace)"
   ]
  },
  {
   "cell_type": "code",
   "execution_count": 7,
   "metadata": {
    "collapsed": false
   },
   "outputs": [
    {
     "name": "stdout",
     "output_type": "stream",
     "text": [
      "29261\n"
     ]
    },
    {
     "data": {
      "text/html": [
       "<div>\n",
       "<table border=\"1\" class=\"dataframe\">\n",
       "  <thead>\n",
       "    <tr style=\"text-align: right;\">\n",
       "      <th></th>\n",
       "      <th>geoid</th>\n",
       "      <th>state</th>\n",
       "      <th>city</th>\n",
       "      <th>pop10</th>\n",
       "    </tr>\n",
       "  </thead>\n",
       "  <tbody>\n",
       "    <tr>\n",
       "      <th>0</th>\n",
       "      <td>0100100</td>\n",
       "      <td>AL</td>\n",
       "      <td>Abanda</td>\n",
       "      <td>192</td>\n",
       "    </tr>\n",
       "    <tr>\n",
       "      <th>1</th>\n",
       "      <td>0100124</td>\n",
       "      <td>AL</td>\n",
       "      <td>Abbeville</td>\n",
       "      <td>2688</td>\n",
       "    </tr>\n",
       "    <tr>\n",
       "      <th>2</th>\n",
       "      <td>0100460</td>\n",
       "      <td>AL</td>\n",
       "      <td>Adamsville</td>\n",
       "      <td>4522</td>\n",
       "    </tr>\n",
       "    <tr>\n",
       "      <th>3</th>\n",
       "      <td>0100484</td>\n",
       "      <td>AL</td>\n",
       "      <td>Addison</td>\n",
       "      <td>758</td>\n",
       "    </tr>\n",
       "    <tr>\n",
       "      <th>4</th>\n",
       "      <td>0100676</td>\n",
       "      <td>AL</td>\n",
       "      <td>Akron</td>\n",
       "      <td>356</td>\n",
       "    </tr>\n",
       "  </tbody>\n",
       "</table>\n",
       "</div>"
      ],
      "text/plain": [
       "     geoid state        city  pop10\n",
       "0  0100100    AL      Abanda    192\n",
       "1  0100124    AL   Abbeville   2688\n",
       "2  0100460    AL  Adamsville   4522\n",
       "3  0100484    AL     Addison    758\n",
       "4  0100676    AL       Akron    356"
      ]
     },
     "execution_count": 7,
     "metadata": {},
     "output_type": "execute_result"
    }
   ],
   "source": [
    "print(len(pops))\n",
    "pops.head()"
   ]
  },
  {
   "cell_type": "markdown",
   "metadata": {},
   "source": [
    "## Load Zillow neighborhood shapefiles into a single GeoDataFrame"
   ]
  },
  {
   "cell_type": "code",
   "execution_count": 8,
   "metadata": {
    "collapsed": false
   },
   "outputs": [],
   "source": [
    "nhoods = gpd.GeoDataFrame()\n",
    "for state_shapefile_folder in os.listdir(input_folder):\n",
    "    shapefile_path = '{}/{}'.format(input_folder, state_shapefile_folder)\n",
    "    state_nhoods = gpd.read_file(shapefile_path)\n",
    "    nhoods = nhoods.append(state_nhoods)\n",
    "nhoods = nhoods.reset_index().drop('index', axis=1)\n",
    "nhoods = nhoods.rename(columns=str.lower)"
   ]
  },
  {
   "cell_type": "code",
   "execution_count": 9,
   "metadata": {
    "collapsed": false
   },
   "outputs": [
    {
     "name": "stdout",
     "output_type": "stream",
     "text": [
      "{'init': 'epsg:4269'}\n"
     ]
    },
    {
     "data": {
      "text/plain": [
       "{'init': 'epsg:4326'}"
      ]
     },
     "execution_count": 9,
     "metadata": {},
     "output_type": "execute_result"
    }
   ],
   "source": [
    "# project it from original CRS to 4326 for OSM\n",
    "print(nhoods.crs)\n",
    "nhoods = nhoods.to_crs({'init':'epsg:4326'})\n",
    "nhoods.crs"
   ]
  },
  {
   "cell_type": "code",
   "execution_count": 10,
   "metadata": {
    "collapsed": true
   },
   "outputs": [],
   "source": [
    "# rename cities to match census data\n",
    "nhoods_city_replace = {'New York City-Queens':'New York',\n",
    "                       'New York City-Manhattan':'New York',\n",
    "                       'New York City-Staten Island':'New York',\n",
    "                       'New York City-Bronx':'New York',\n",
    "                       'New York City-Brooklyn':'New York'}\n",
    "nhoods['city'] = nhoods['city'].replace(nhoods_city_replace)"
   ]
  },
  {
   "cell_type": "code",
   "execution_count": 11,
   "metadata": {
    "collapsed": false
   },
   "outputs": [
    {
     "name": "stdout",
     "output_type": "stream",
     "text": [
      "6958\n"
     ]
    },
    {
     "data": {
      "text/html": [
       "<div>\n",
       "<table border=\"1\" class=\"dataframe\">\n",
       "  <thead>\n",
       "    <tr style=\"text-align: right;\">\n",
       "      <th></th>\n",
       "      <th>city</th>\n",
       "      <th>county</th>\n",
       "      <th>name</th>\n",
       "      <th>regionid</th>\n",
       "      <th>state</th>\n",
       "      <th>geometry</th>\n",
       "    </tr>\n",
       "  </thead>\n",
       "  <tbody>\n",
       "    <tr>\n",
       "      <th>0</th>\n",
       "      <td>Anchorage</td>\n",
       "      <td>Anchorage</td>\n",
       "      <td>Northeast</td>\n",
       "      <td>267847.0</td>\n",
       "      <td>AK</td>\n",
       "      <td>POLYGON ((-149.718495442866 61.2350090941569, ...</td>\n",
       "    </tr>\n",
       "    <tr>\n",
       "      <th>1</th>\n",
       "      <td>Anchorage</td>\n",
       "      <td>Anchorage</td>\n",
       "      <td>Old Seward-Oceanview</td>\n",
       "      <td>274891.0</td>\n",
       "      <td>AK</td>\n",
       "      <td>POLYGON ((-149.88726129547 61.11603087070581, ...</td>\n",
       "    </tr>\n",
       "    <tr>\n",
       "      <th>2</th>\n",
       "      <td>Anchorage</td>\n",
       "      <td>Anchorage</td>\n",
       "      <td>Portage Valley</td>\n",
       "      <td>275077.0</td>\n",
       "      <td>AK</td>\n",
       "      <td>POLYGON ((-148.918401065296 60.90632882965091,...</td>\n",
       "    </tr>\n",
       "    <tr>\n",
       "      <th>3</th>\n",
       "      <td>Anchorage</td>\n",
       "      <td>Anchorage</td>\n",
       "      <td>Glen Alps</td>\n",
       "      <td>267840.0</td>\n",
       "      <td>AK</td>\n",
       "      <td>POLYGON ((-149.69367817045 61.1085876564845, -...</td>\n",
       "    </tr>\n",
       "    <tr>\n",
       "      <th>4</th>\n",
       "      <td>Anchorage</td>\n",
       "      <td>Anchorage</td>\n",
       "      <td>Campbell Park</td>\n",
       "      <td>267835.0</td>\n",
       "      <td>AK</td>\n",
       "      <td>POLYGON ((-149.785669185941 61.1808342938339, ...</td>\n",
       "    </tr>\n",
       "  </tbody>\n",
       "</table>\n",
       "</div>"
      ],
      "text/plain": [
       "        city     county                  name  regionid state  \\\n",
       "0  Anchorage  Anchorage             Northeast  267847.0    AK   \n",
       "1  Anchorage  Anchorage  Old Seward-Oceanview  274891.0    AK   \n",
       "2  Anchorage  Anchorage        Portage Valley  275077.0    AK   \n",
       "3  Anchorage  Anchorage             Glen Alps  267840.0    AK   \n",
       "4  Anchorage  Anchorage         Campbell Park  267835.0    AK   \n",
       "\n",
       "                                            geometry  \n",
       "0  POLYGON ((-149.718495442866 61.2350090941569, ...  \n",
       "1  POLYGON ((-149.88726129547 61.11603087070581, ...  \n",
       "2  POLYGON ((-148.918401065296 60.90632882965091,...  \n",
       "3  POLYGON ((-149.69367817045 61.1085876564845, -...  \n",
       "4  POLYGON ((-149.785669185941 61.1808342938339, ...  "
      ]
     },
     "execution_count": 11,
     "metadata": {},
     "output_type": "execute_result"
    }
   ],
   "source": [
    "print(len(nhoods))\n",
    "nhoods.head()"
   ]
  },
  {
   "cell_type": "markdown",
   "metadata": {},
   "source": [
    "## Merge neighborhoods with census data to get GEOID, city population, then calculate area in meters"
   ]
  },
  {
   "cell_type": "code",
   "execution_count": 12,
   "metadata": {
    "collapsed": false
   },
   "outputs": [],
   "source": [
    "gdf = pd.merge(left=nhoods, right=pops, how='left', on=['city', 'state'])\n",
    "gdf = gdf.rename(columns={'pop10':'city_pop10', 'name':'nhood'})"
   ]
  },
  {
   "cell_type": "code",
   "execution_count": 13,
   "metadata": {
    "collapsed": false
   },
   "outputs": [],
   "source": [
    "# get area of each neighborhood, in meters\n",
    "def get_area(geometry):\n",
    "    original_crs = {'init':'epsg:4326'}\n",
    "    geometry_utm, crs_utm = ox.project_geometry(geometry=geometry.buffer(0), crs=original_crs)\n",
    "    return geometry_utm.area\n",
    "\n",
    "gdf['nhood_area_m'] = gdf['geometry'].map(get_area)"
   ]
  },
  {
   "cell_type": "code",
   "execution_count": 14,
   "metadata": {
    "collapsed": false
   },
   "outputs": [
    {
     "name": "stdout",
     "output_type": "stream",
     "text": [
      "6958\n"
     ]
    },
    {
     "data": {
      "text/html": [
       "<div>\n",
       "<table border=\"1\" class=\"dataframe\">\n",
       "  <thead>\n",
       "    <tr style=\"text-align: right;\">\n",
       "      <th></th>\n",
       "      <th>city</th>\n",
       "      <th>county</th>\n",
       "      <th>nhood</th>\n",
       "      <th>regionid</th>\n",
       "      <th>state</th>\n",
       "      <th>geometry</th>\n",
       "      <th>geoid</th>\n",
       "      <th>city_pop10</th>\n",
       "      <th>nhood_area_m</th>\n",
       "    </tr>\n",
       "  </thead>\n",
       "  <tbody>\n",
       "    <tr>\n",
       "      <th>0</th>\n",
       "      <td>Anchorage</td>\n",
       "      <td>Anchorage</td>\n",
       "      <td>Northeast</td>\n",
       "      <td>267847.0</td>\n",
       "      <td>AK</td>\n",
       "      <td>POLYGON ((-149.718495442866 61.2350090941569, ...</td>\n",
       "      <td>0203000</td>\n",
       "      <td>291826</td>\n",
       "      <td>1.272976e+07</td>\n",
       "    </tr>\n",
       "    <tr>\n",
       "      <th>1</th>\n",
       "      <td>Anchorage</td>\n",
       "      <td>Anchorage</td>\n",
       "      <td>Old Seward-Oceanview</td>\n",
       "      <td>274891.0</td>\n",
       "      <td>AK</td>\n",
       "      <td>POLYGON ((-149.88726129547 61.11603087070581, ...</td>\n",
       "      <td>0203000</td>\n",
       "      <td>291826</td>\n",
       "      <td>1.614718e+07</td>\n",
       "    </tr>\n",
       "    <tr>\n",
       "      <th>2</th>\n",
       "      <td>Anchorage</td>\n",
       "      <td>Anchorage</td>\n",
       "      <td>Portage Valley</td>\n",
       "      <td>275077.0</td>\n",
       "      <td>AK</td>\n",
       "      <td>POLYGON ((-148.918401065296 60.90632882965091,...</td>\n",
       "      <td>0203000</td>\n",
       "      <td>291826</td>\n",
       "      <td>3.004981e+08</td>\n",
       "    </tr>\n",
       "    <tr>\n",
       "      <th>3</th>\n",
       "      <td>Anchorage</td>\n",
       "      <td>Anchorage</td>\n",
       "      <td>Glen Alps</td>\n",
       "      <td>267840.0</td>\n",
       "      <td>AK</td>\n",
       "      <td>POLYGON ((-149.69367817045 61.1085876564845, -...</td>\n",
       "      <td>0203000</td>\n",
       "      <td>291826</td>\n",
       "      <td>3.458132e+06</td>\n",
       "    </tr>\n",
       "    <tr>\n",
       "      <th>4</th>\n",
       "      <td>Anchorage</td>\n",
       "      <td>Anchorage</td>\n",
       "      <td>Campbell Park</td>\n",
       "      <td>267835.0</td>\n",
       "      <td>AK</td>\n",
       "      <td>POLYGON ((-149.785669185941 61.1808342938339, ...</td>\n",
       "      <td>0203000</td>\n",
       "      <td>291826</td>\n",
       "      <td>8.091302e+06</td>\n",
       "    </tr>\n",
       "  </tbody>\n",
       "</table>\n",
       "</div>"
      ],
      "text/plain": [
       "        city     county                 nhood  regionid state  \\\n",
       "0  Anchorage  Anchorage             Northeast  267847.0    AK   \n",
       "1  Anchorage  Anchorage  Old Seward-Oceanview  274891.0    AK   \n",
       "2  Anchorage  Anchorage        Portage Valley  275077.0    AK   \n",
       "3  Anchorage  Anchorage             Glen Alps  267840.0    AK   \n",
       "4  Anchorage  Anchorage         Campbell Park  267835.0    AK   \n",
       "\n",
       "                                            geometry    geoid  city_pop10  \\\n",
       "0  POLYGON ((-149.718495442866 61.2350090941569, ...  0203000      291826   \n",
       "1  POLYGON ((-149.88726129547 61.11603087070581, ...  0203000      291826   \n",
       "2  POLYGON ((-148.918401065296 60.90632882965091,...  0203000      291826   \n",
       "3  POLYGON ((-149.69367817045 61.1085876564845, -...  0203000      291826   \n",
       "4  POLYGON ((-149.785669185941 61.1808342938339, ...  0203000      291826   \n",
       "\n",
       "   nhood_area_m  \n",
       "0  1.272976e+07  \n",
       "1  1.614718e+07  \n",
       "2  3.004981e+08  \n",
       "3  3.458132e+06  \n",
       "4  8.091302e+06  "
      ]
     },
     "execution_count": 14,
     "metadata": {},
     "output_type": "execute_result"
    }
   ],
   "source": [
    "print(len(gdf))\n",
    "gdf.head()"
   ]
  },
  {
   "cell_type": "code",
   "execution_count": 15,
   "metadata": {
    "collapsed": false
   },
   "outputs": [],
   "source": [
    "#gdf.to_file('output_shp/nhoods_pops')"
   ]
  },
  {
   "cell_type": "markdown",
   "metadata": {},
   "source": [
    "## Get networks"
   ]
  },
  {
   "cell_type": "code",
   "execution_count": 16,
   "metadata": {
    "collapsed": false
   },
   "outputs": [],
   "source": [
    "# where to save networks\n",
    "state_to_fips = {data['abbreviation']:fips for fips, data in fips_to_state.items()}\n",
    "gdf['state_folder'] = gdf['state'].map(lambda x: '{}_{}'.format(state_to_fips[x], x))\n",
    "gdf['city_folder'] = gdf.apply(lambda row: '{}_{}'.format(row['geoid'], row['city']).replace(' ', '-'), axis=1)\n",
    "gdf['nhood_folder'] = gdf.apply(lambda row: '{}/{}/{}'.format(row['state_folder'], \n",
    "                                                              row['city_folder'], \n",
    "                                                              row['nhood'].replace(' ', '-')), axis=1)"
   ]
  },
  {
   "cell_type": "code",
   "execution_count": 17,
   "metadata": {
    "collapsed": false
   },
   "outputs": [
    {
     "data": {
      "text/plain": [
       "{'city_pop10': 291826,\n",
       " 'geometry': <shapely.geometry.polygon.Polygon at 0x1f51060fcc0>,\n",
       " 'nhood_area_m': 12729758.67861682,\n",
       " 'nhood_folder': '02_AK/0203000_Anchorage/Northeast'}"
      ]
     },
     "execution_count": 17,
     "metadata": {},
     "output_type": "execute_result"
    }
   ],
   "source": [
    "# create list of queries\n",
    "queries = gdf.apply(lambda row: {'nhood_folder':row['nhood_folder'], \n",
    "                                 'geometry':row['geometry'],\n",
    "                                 'nhood_area_m':row['nhood_area_m'],\n",
    "                                 'city_pop10':row['city_pop10']}, axis=1).tolist()\n",
    "queries[0]"
   ]
  },
  {
   "cell_type": "code",
   "execution_count": 18,
   "metadata": {
    "collapsed": false
   },
   "outputs": [
    {
     "name": "stdout",
     "output_type": "stream",
     "text": [
      "\"06_CA/0613392_Chula-Vista/Golf-Course\" failed: No geometry data set yet (expected in column 'geometry'.\n",
      "\"06_CA/0618100_Davis/Dos-Pinos\" failed: Wrong number of items passed 0, placement implies 1\n",
      "\"06_CA/0618100_Davis/South-Cape\" failed: 'node'\n",
      "\"06_CA/0618100_Davis/Wildhorse-Gc\" failed: No geometry data set yet (expected in column 'geometry'.\n",
      "\"12_FL/1224000_Fort-Lauderdale/Bay-Colony-Club\" failed: No geometry data set yet (expected in column 'geometry'.\n",
      "\"12_FL/1224000_Fort-Lauderdale/Birch-Park\" failed: No geometry data set yet (expected in column 'geometry'.\n",
      "\"12_FL/1212875_Clearwater/Chateaux-De-Ville\" failed: No geometry data set yet (expected in column 'geometry'.\n",
      "\"12_FL/1212875_Clearwater/Clearwater-Golf-View\" failed: 'node'\n",
      "\"12_FL/1212875_Clearwater/Countryside-Woods\" failed: 'node'\n",
      "\"12_FL/1212875_Clearwater/Drew-Park-Plaza\" failed: No geometry data set yet (expected in column 'geometry'.\n",
      "\"12_FL/1212875_Clearwater/Eagles-Glen\" failed: Wrong number of items passed 0, placement implies 1\n",
      "\"12_FL/1212875_Clearwater/Harbor-Bluffs-Waterfront\" failed: 'node'\n",
      "\"12_FL/1212875_Clearwater/Imperial-Courts\" failed: 'node'\n",
      "\"12_FL/1212875_Clearwater/Inverness-Park\" failed: No geometry data set yet (expected in column 'geometry'.\n",
      "\"12_FL/1212875_Clearwater/Oaks-Of-Northwood\" failed: 'node'\n",
      "\"12_FL/1212875_Clearwater/Old-Clearwater-Bay\" failed: No geometry data set yet (expected in column 'geometry'.\n",
      "\"12_FL/1212875_Clearwater/Pierce\" failed: No geometry data set yet (expected in column 'geometry'.\n",
      "\"12_FL/1212875_Clearwater/Prelude\" failed: No geometry data set yet (expected in column 'geometry'.\n",
      "\"12_FL/1212875_Clearwater/Prospect-Towers\" failed: 'node'\n",
      "\"12_FL/1212875_Clearwater/Spring-Lake-South\" failed: 'node'\n",
      "\"12_FL/1212875_Clearwater/Sunshine-Tower\" failed: 'node'\n",
      "\"12_FL/1212875_Clearwater/Viewpoint-On-The-Bay\" failed: 'node'\n",
      "\"12_FL/1238250_Lakeland/Lake-Bonny-Park\" failed: No geometry data set yet (expected in column 'geometry'.\n"
     ]
    },
    {
     "name": "stderr",
     "output_type": "stream",
     "text": [
      "TopologyException: Input geom 0 is invalid: Self-intersection at or near point -82.531022810978214 27.349486967079315 at -82.531022810978214 27.349486967079315\n",
      "Self-intersection at or near point -82.531022810978214 27.349486967079315\n"
     ]
    },
    {
     "name": "stdout",
     "output_type": "stream",
     "text": [
      "\"12_FL/1264175_Sarasota/Original-Gillespie-Park\" failed: The operation 'GEOSDifference_r' could not be performed. Likely cause is invalidity of the geometry <shapely.geometry.polygon.Polygon object at 0x000001F51C77A588>\n",
      "\"12_FL/1264175_Sarasota/Uplands\" failed: Wrong number of items passed 0, placement implies 1\n",
      "\"18_IN/1825000_Fort-Wayne/Villas-At-Chandlers-Cove\" failed: No geometry data set yet (expected in column 'geometry'.\n",
      "\"18_IN/1825000_Fort-Wayne/Hillside-Acres\" failed: No geometry data set yet (expected in column 'geometry'.\n",
      "\"18_IN/1825000_Fort-Wayne/Hazelwood\" failed: No geometry data set yet (expected in column 'geometry'.\n",
      "\"18_IN/1825000_Fort-Wayne/Illsley-Place\" failed: No geometry data set yet (expected in column 'geometry'.\n",
      "\"18_IN/1825000_Fort-Wayne/Poplar-Ridge\" failed: No geometry data set yet (expected in column 'geometry'.\n",
      "\"18_IN/1825000_Fort-Wayne/Wilmarbee\" failed: No geometry data set yet (expected in column 'geometry'.\n",
      "\"18_IN/1825000_Fort-Wayne/Aldale-Acres\" failed: No geometry data set yet (expected in column 'geometry'.\n",
      "\"18_IN/1825000_Fort-Wayne/Effie-Drive\" failed: No geometry data set yet (expected in column 'geometry'.\n",
      "\"18_IN/1825000_Fort-Wayne/Woodlea\" failed: 'node'\n",
      "\"18_IN/1825000_Fort-Wayne/Springmill-Woods\" failed: No geometry data set yet (expected in column 'geometry'.\n",
      "\"18_IN/1825000_Fort-Wayne/Sunset\" failed: No geometry data set yet (expected in column 'geometry'.\n",
      "\"18_IN/1825000_Fort-Wayne/Lake-Of-The-Woods\" failed: No geometry data set yet (expected in column 'geometry'.\n",
      "\"18_IN/1825000_Fort-Wayne/Daus-Suburban\" failed: 'node'\n",
      "\"18_IN/1825000_Fort-Wayne/Park-Place\" failed: 'node'\n",
      "\"21_KY/2146027_Lexington/Meadowthorpe\" failed: No geometry data set yet (expected in column 'geometry'.\n",
      "\"35_NM/3502000_Albuquerque/Carmel\" failed: 'node'\n",
      "\"35_NM/3502000_Albuquerque/Academy-Park\" failed: No geometry data set yet (expected in column 'geometry'.\n",
      "\"35_NM/3502000_Albuquerque/San-Antonio\" failed: No geometry data set yet (expected in column 'geometry'.\n",
      "\"35_NM/3502000_Albuquerque/Vista-Montecito\" failed: No geometry data set yet (expected in column 'geometry'.\n",
      "\"36_NY/3651000_New-York/Rosedale\" failed: Wrong number of items passed 0, placement implies 1\n",
      "\"36_NY/3651000_New-York/Whitestone\" failed: No geometry data set yet (expected in column 'geometry'.\n",
      "\"36_NY/3651000_New-York/Coney-Island\" failed: Wrong number of items passed 0, placement implies 1\n",
      "\"36_NY/3651000_New-York/Red-Hook\" failed: Wrong number of items passed 0, placement implies 1\n",
      "\"36_NY/3651000_New-York/Howard-Beach\" failed: 'node'\n",
      "\"36_NY/3651000_New-York/Bayside\" failed: No geometry data set yet (expected in column 'geometry'.\n",
      "\"41_OR/4159000_Portland/Pleasant-Valley\" failed: ('Connection broken: IncompleteRead(6801 bytes read, 1295 more expected)', IncompleteRead(6801 bytes read, 1295 more expected))\n"
     ]
    },
    {
     "name": "stderr",
     "output_type": "stream",
     "text": [
      "TopologyException: Input geom 0 is invalid: Self-intersection at or near point -122.63506693005999 45.465978576687938 at -122.63506693005999 45.465978576687938\n",
      "Self-intersection at or near point -122.63506693005999 45.465978576687938\n"
     ]
    },
    {
     "name": "stdout",
     "output_type": "stream",
     "text": [
      "\"41_OR/4148650_Milwaukie/Ardenwald\" failed: The operation 'GEOSDifference_r' could not be performed. Likely cause is invalidity of the geometry <shapely.geometry.polygon.Polygon object at 0x000001F51B673BE0>\n",
      "\"41_OR/4159000_Portland/Government-Island\" failed: 'node'\n",
      "\"47_TN/4752006_Nashville/Rayon-City\" failed: No geometry data set yet (expected in column 'geometry'.\n",
      "\"48_TX/4865000_San-Antonio/Colonies-Village-Vance-Jackson\" failed: Wrong number of items passed 0, placement implies 1\n",
      "\"48_TX/4865000_San-Antonio/Culebra-Park-Third-World\" failed: No geometry data set yet (expected in column 'geometry'.\n",
      "\"48_TX/4865000_San-Antonio/Devonshire-S\" failed: No geometry data set yet (expected in column 'geometry'.\n",
      "\"48_TX/4865000_San-Antonio/Dignowity-Hill-St-Paul-Square\" failed: 'node'\n",
      "\"48_TX/4865000_San-Antonio/Encino-Creek\" failed: No geometry data set yet (expected in column 'geometry'.\n",
      "\"48_TX/4865000_San-Antonio/Hampshire-House\" failed: 'node'\n",
      "\"48_TX/4865000_San-Antonio/Hidden-Oaks-Estates\" failed: There are no data elements in the response JSON objects\n",
      "\"48_TX/4865000_San-Antonio/Hill-Country-Villas\" failed: No geometry data set yet (expected in column 'geometry'.\n",
      "\"48_TX/4865000_San-Antonio/Jefferson-Monticello-Park-Woodlawn-Lake\" failed: Wrong number of items passed 0, placement implies 1\n",
      "\"48_TX/4865000_San-Antonio/Kensington-Row\" failed: Wrong number of items passed 0, placement implies 1\n",
      "\"48_TX/4865000_San-Antonio/Lafayette-Place\" failed: 'node'\n",
      "\"48_TX/4865000_San-Antonio/Mission-Trace-Vance-Jackson\" failed: Wrong number of items passed 0, placement implies 1\n",
      "\"48_TX/4865000_San-Antonio/Northern-Hills-Country-Village\" failed: Wrong number of items passed 0, placement implies 1\n",
      "\"48_TX/4865000_San-Antonio/Oak-Valley\" failed: No geometry data set yet (expected in column 'geometry'.\n",
      "\"48_TX/4865000_San-Antonio/Oakdell\" failed: 'node'\n",
      "\"48_TX/4865000_San-Antonio/Pecan-Valley-Park-Estates-Pecan-Valley\" failed: No geometry data set yet (expected in column 'geometry'.\n",
      "\"48_TX/4865000_San-Antonio/Scenic-Country-Estates\" failed: No geometry data set yet (expected in column 'geometry'.\n",
      "\"48_TX/4865000_San-Antonio/Shavano-Heights\" failed: Wrong number of items passed 0, placement implies 1\n",
      "\"48_TX/4865000_San-Antonio/Sonterra\" failed: 'node'\n",
      "\"48_TX/4865000_San-Antonio/Spyglass-Hill\" failed: Wrong number of items passed 0, placement implies 1\n",
      "\"48_TX/4865000_San-Antonio/Steeplebrook\" failed: 'node'\n",
      "\"48_TX/4865000_San-Antonio/Stone-Wood\" failed: Wrong number of items passed 0, placement implies 1\n",
      "\"48_TX/4865000_San-Antonio/The-Crossing-At-Quail-Creek\" failed: 'node'\n",
      "\"48_TX/4865000_San-Antonio/The-Oaks-Oak-Park-Northwood\" failed: Wrong number of items passed 0, placement implies 1\n",
      "\"48_TX/4865000_San-Antonio/The-Park-Waters\" failed: Wrong number of items passed 0, placement implies 1\n",
      "\"48_TX/4865000_San-Antonio/The-Seventh-At-Sonterra-The-Vineyard\" failed: Wrong number of items passed 0, placement implies 1\n",
      "\"48_TX/4865000_San-Antonio/Walden-Meadows\" failed: No geometry data set yet (expected in column 'geometry'.\n",
      "\"48_TX/4865000_San-Antonio/Wilderness-Pointe\" failed: Wrong number of items passed 0, placement implies 1\n",
      "\"48_TX/4865000_San-Antonio/Woodmont\" failed: Wrong number of items passed 0, placement implies 1\n",
      "\"48_TX/4829000_Garland/Briaroaks\" failed: 'node'\n",
      "\"48_TX/4829000_Garland/Crows-Nest\" failed: 'node'\n",
      "\"48_TX/4829000_Garland/Picket-Place\" failed: 'node'\n",
      "\"48_TX/4829000_Garland/Place-One\" failed: No geometry data set yet (expected in column 'geometry'.\n",
      "\"48_TX/4829000_Garland/Redbud\" failed: No geometry data set yet (expected in column 'geometry'.\n",
      "\"48_TX/4824000_El-Paso/Little-Bit-Of-Country\" failed: No geometry data set yet (expected in column 'geometry'.\n",
      "\"51_VA/5167000_Richmond/Pine-Camp\" failed: No geometry data set yet (expected in column 'geometry'.\n",
      "\"53_WA/5351300_Olympia/Woodard-Glen\" failed: No geometry data set yet (expected in column 'geometry'.\n",
      "\"53_WA/5351300_Olympia/Springfield\" failed: No geometry data set yet (expected in column 'geometry'.\n",
      "\"53_WA/5351300_Olympia/Newport\" failed: No geometry data set yet (expected in column 'geometry'.\n",
      "\"55_WI/5548000_Madison/Wyndemere\" failed: No geometry data set yet (expected in column 'geometry'.\n",
      "\"55_WI/5548000_Madison/Oakbridge\" failed: Wrong number of items passed 0, placement implies 1\n",
      "\"55_WI/5553000_Milwaukee/Hilltop-Parish\" failed: No geometry data set yet (expected in column 'geometry'.\n",
      "\"55_WI/5548000_Madison/Parkside-Resident\" failed: 'node'\n",
      "\"55_WI/5553000_Milwaukee/Granville-Woods\" failed: No geometry data set yet (expected in column 'geometry'.\n",
      "\"55_WI/5548000_Madison/Skyview-Terrace\" failed: 'node'\n",
      "\"55_WI/5548000_Madison/Millstone\" failed: Wrong number of items passed 0, placement implies 1\n",
      "\"55_WI/5553000_Milwaukee/Buchel-Park\" failed: No geometry data set yet (expected in column 'geometry'.\n",
      "Finished making graphs in 25,438.82 seconds\n"
     ]
    }
   ],
   "source": [
    "start_time = time.time()\n",
    "for query in queries:\n",
    "    try:\n",
    "        # load graph and save it if it hasn't already been saved in the output_path\n",
    "        if not os.path.exists('{}/{}.graphml'.format(output_folder, query['nhood_folder'])):\n",
    "            geometry = query['geometry'].buffer(0) #fix trivially invalid geometries (nested shells, ring self-intersections)\n",
    "            G = ox.graph_from_polygon(polygon=geometry, network_type=network_type, \n",
    "                                      name=query['nhood_folder'], retain_all=retain_all)\n",
    "            G.graph['nhood_area_m'] = query['nhood_area_m']\n",
    "            G.graph['city_pop10'] = query['city_pop10']\n",
    "            ox.save_graph_shapefile(G, folder=output_folder, filename=query['nhood_folder'])\n",
    "            ox.save_graphml(G, folder=output_folder, filename='{}.graphml'.format(query['nhood_folder']))\n",
    "    except Exception as e:\n",
    "        print('\"{}\" failed: {}'.format(query['nhood_folder'], e))\n",
    "print('Finished making graphs in {:,.2f} seconds'.format(time.time()-start_time))"
   ]
  },
  {
   "cell_type": "code",
   "execution_count": null,
   "metadata": {
    "collapsed": true
   },
   "outputs": [],
   "source": []
  }
 ],
 "metadata": {
  "anaconda-cloud": {},
  "kernelspec": {
   "display_name": "Python [conda root]",
   "language": "python",
   "name": "conda-root-py"
  },
  "language_info": {
   "codemirror_mode": {
    "name": "ipython",
    "version": 3
   },
   "file_extension": ".py",
   "mimetype": "text/x-python",
   "name": "python",
   "nbconvert_exporter": "python",
   "pygments_lexer": "ipython3",
   "version": "3.5.2"
  }
 },
 "nbformat": 4,
 "nbformat_minor": 1
}
