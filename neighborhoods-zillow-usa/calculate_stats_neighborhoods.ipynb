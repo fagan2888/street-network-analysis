{
 "cells": [
  {
   "cell_type": "code",
   "execution_count": 1,
   "metadata": {
    "collapsed": true
   },
   "outputs": [],
   "source": [
    "import osmnx as ox, pandas as pd, time, geopandas as gpd, os\n",
    "%matplotlib inline\n",
    "ox.config(use_cache=True, log_file=True, log_console=True, log_filename='calculate_stats_neighborhoods',\n",
    "          data_folder='G:/Geoff/osmnx/neighborhoods', cache_folder='G:/Geoff/osmnx/cache/neighborhoods')"
   ]
  },
  {
   "cell_type": "code",
   "execution_count": 2,
   "metadata": {
    "collapsed": false
   },
   "outputs": [],
   "source": [
    "data_folder = 'G:/Geoff/osmnx/neighborhoods'"
   ]
  },
  {
   "cell_type": "markdown",
   "metadata": {},
   "source": [
    "## Make a DataFrame of all the cities that have .graphml files saved in the folder"
   ]
  },
  {
   "cell_type": "code",
   "execution_count": 3,
   "metadata": {
    "collapsed": false
   },
   "outputs": [
    {
     "data": {
      "text/html": [
       "<div>\n",
       "<table border=\"1\" class=\"dataframe\">\n",
       "  <thead>\n",
       "    <tr style=\"text-align: right;\">\n",
       "      <th></th>\n",
       "      <th>city</th>\n",
       "      <th>file</th>\n",
       "      <th>geoid</th>\n",
       "      <th>nhood</th>\n",
       "      <th>path</th>\n",
       "      <th>state</th>\n",
       "      <th>state_fips</th>\n",
       "    </tr>\n",
       "  </thead>\n",
       "  <tbody>\n",
       "    <tr>\n",
       "      <th>0</th>\n",
       "      <td>Mobile</td>\n",
       "      <td>Airmont.graphml</td>\n",
       "      <td>0150000</td>\n",
       "      <td>Airmont</td>\n",
       "      <td>G:/Geoff/osmnx/neighborhoods/01_AL/0150000_Mobile</td>\n",
       "      <td>AL</td>\n",
       "      <td>01</td>\n",
       "    </tr>\n",
       "    <tr>\n",
       "      <th>1</th>\n",
       "      <td>Mobile</td>\n",
       "      <td>Alderbrook.graphml</td>\n",
       "      <td>0150000</td>\n",
       "      <td>Alderbrook</td>\n",
       "      <td>G:/Geoff/osmnx/neighborhoods/01_AL/0150000_Mobile</td>\n",
       "      <td>AL</td>\n",
       "      <td>01</td>\n",
       "    </tr>\n",
       "    <tr>\n",
       "      <th>2</th>\n",
       "      <td>Mobile</td>\n",
       "      <td>Alligator-Bayou.graphml</td>\n",
       "      <td>0150000</td>\n",
       "      <td>Alligator Bayou</td>\n",
       "      <td>G:/Geoff/osmnx/neighborhoods/01_AL/0150000_Mobile</td>\n",
       "      <td>AL</td>\n",
       "      <td>01</td>\n",
       "    </tr>\n",
       "    <tr>\n",
       "      <th>3</th>\n",
       "      <td>Mobile</td>\n",
       "      <td>Argyle.graphml</td>\n",
       "      <td>0150000</td>\n",
       "      <td>Argyle</td>\n",
       "      <td>G:/Geoff/osmnx/neighborhoods/01_AL/0150000_Mobile</td>\n",
       "      <td>AL</td>\n",
       "      <td>01</td>\n",
       "    </tr>\n",
       "    <tr>\n",
       "      <th>4</th>\n",
       "      <td>Mobile</td>\n",
       "      <td>Arlington.graphml</td>\n",
       "      <td>0150000</td>\n",
       "      <td>Arlington</td>\n",
       "      <td>G:/Geoff/osmnx/neighborhoods/01_AL/0150000_Mobile</td>\n",
       "      <td>AL</td>\n",
       "      <td>01</td>\n",
       "    </tr>\n",
       "  </tbody>\n",
       "</table>\n",
       "</div>"
      ],
      "text/plain": [
       "     city                     file    geoid            nhood  \\\n",
       "0  Mobile          Airmont.graphml  0150000          Airmont   \n",
       "1  Mobile       Alderbrook.graphml  0150000       Alderbrook   \n",
       "2  Mobile  Alligator-Bayou.graphml  0150000  Alligator Bayou   \n",
       "3  Mobile           Argyle.graphml  0150000           Argyle   \n",
       "4  Mobile        Arlington.graphml  0150000        Arlington   \n",
       "\n",
       "                                                path state state_fips  \n",
       "0  G:/Geoff/osmnx/neighborhoods/01_AL/0150000_Mobile    AL         01  \n",
       "1  G:/Geoff/osmnx/neighborhoods/01_AL/0150000_Mobile    AL         01  \n",
       "2  G:/Geoff/osmnx/neighborhoods/01_AL/0150000_Mobile    AL         01  \n",
       "3  G:/Geoff/osmnx/neighborhoods/01_AL/0150000_Mobile    AL         01  \n",
       "4  G:/Geoff/osmnx/neighborhoods/01_AL/0150000_Mobile    AL         01  "
      ]
     },
     "execution_count": 3,
     "metadata": {},
     "output_type": "execute_result"
    }
   ],
   "source": [
    "places = []\n",
    "for state_folder in os.listdir(data_folder):\n",
    "    for city_folder in os.listdir('{}/{}'.format(data_folder, state_folder)):\n",
    "        for nhood_file in os.listdir('{}/{}/{}'.format(data_folder, state_folder, city_folder)):\n",
    "            if '.graphml' in nhood_file:\n",
    "                data = {}\n",
    "                data['state_fips'] = state_folder.split('_')[0]\n",
    "                data['state'] = state_folder.split('_')[1]\n",
    "                data['geoid'] = city_folder.split('_')[0]\n",
    "                data['city'] = city_folder.replace('{}_'.format(data['geoid']), '')\n",
    "                data['nhood'] = nhood_file.replace('.graphml', '').replace('-', ' ')\n",
    "                data['path'] = '{}/{}/{}'.format(data_folder, state_folder, city_folder)\n",
    "                data['file'] = nhood_file\n",
    "                places.append(data)\n",
    "\n",
    "df = pd.DataFrame(places)\n",
    "df.head()"
   ]
  },
  {
   "cell_type": "markdown",
   "metadata": {},
   "source": [
    "## Load graph and calculate stats for each neighborhood"
   ]
  },
  {
   "cell_type": "code",
   "execution_count": 4,
   "metadata": {
    "collapsed": true
   },
   "outputs": [],
   "source": [
    "def load_graph_get_stats(row):\n",
    "    \n",
    "    try:\n",
    "        start_time = time.time()\n",
    "        G = ox.load_graphml(filename=row['file'], folder=row['path'])\n",
    "        nhood_area_m = float(G.graph['nhood_area_m'])\n",
    "        \n",
    "        stats = ox.basic_stats(G, area=nhood_area_m)\n",
    "        stats['nhood'] = row['nhood']\n",
    "        stats['city'] = row['city']\n",
    "        stats['state'] = row['state']\n",
    "        stats['geoid'] = row['geoid']\n",
    "        \n",
    "        # calculate/drop the extended stats that have values per node\n",
    "        extended_stats = ox.extended_stats(G)\n",
    "        se = pd.Series(extended_stats)\n",
    "        se = se.drop(['avg_neighbor_degree', 'avg_weighted_neighbor_degree', 'clustering_coefficient',\n",
    "                      'clustering_coefficient_weighted', 'degree_centrality', 'pagerank'])\n",
    "        extended_stats_clean = se.to_dict()\n",
    "        \n",
    "        for key in extended_stats_clean:\n",
    "            stats[key] = extended_stats_clean[key]\n",
    "        \n",
    "        stats['area_km'] = nhood_area_m / 1e6\n",
    "        stats['area'] = nhood_area_m\n",
    "        stats['time'] = time.time()-start_time\n",
    "        return pd.Series(stats)\n",
    "\n",
    "    except Exception as e:\n",
    "        print('{}, {}, {} failed: {}'.format(row['nhood'], row['city'], row['state'], e))\n",
    "        return pd.Series()"
   ]
  },
  {
   "cell_type": "code",
   "execution_count": 5,
   "metadata": {
    "collapsed": false
   },
   "outputs": [
    {
     "name": "stderr",
     "output_type": "stream",
     "text": [
      "C:\\Anaconda\\lib\\site-packages\\networkx\\generators\\stochastic.py:56: UserWarning: zero out-degree for node 2675915756\n",
      "  warnings.warn('zero out-degree for node %s' % u)\n"
     ]
    },
    {
     "name": "stdout",
     "output_type": "stream",
     "text": [
      "Woods, Davis, CA failed: float division by zero\n"
     ]
    },
    {
     "name": "stderr",
     "output_type": "stream",
     "text": [
      "C:\\Anaconda\\lib\\site-packages\\networkx\\generators\\stochastic.py:56: UserWarning: zero out-degree for node 3236217611\n",
      "  warnings.warn('zero out-degree for node %s' % u)\n",
      "C:\\Anaconda\\lib\\site-packages\\networkx\\generators\\stochastic.py:56: UserWarning: zero out-degree for node 3148897956\n",
      "  warnings.warn('zero out-degree for node %s' % u)\n"
     ]
    },
    {
     "name": "stdout",
     "output_type": "stream",
     "text": [
      "Cedar Ridge, Fort-Wayne, IN failed: float division by zero\n",
      "Centaur Acres, Fort-Wayne, IN failed: float division by zero\n",
      "Foxchase, Fort-Wayne, IN failed: float division by zero\n"
     ]
    },
    {
     "name": "stderr",
     "output_type": "stream",
     "text": [
      "C:\\Anaconda\\lib\\site-packages\\networkx\\generators\\stochastic.py:56: UserWarning: zero out-degree for node 1956791865\n",
      "  warnings.warn('zero out-degree for node %s' % u)\n",
      "C:\\Anaconda\\lib\\site-packages\\networkx\\generators\\stochastic.py:56: UserWarning: zero out-degree for node 4376766999\n",
      "  warnings.warn('zero out-degree for node %s' % u)\n",
      "C:\\Anaconda\\lib\\site-packages\\networkx\\generators\\stochastic.py:56: UserWarning: zero out-degree for node 3350640569\n",
      "  warnings.warn('zero out-degree for node %s' % u)\n",
      "C:\\Anaconda\\lib\\site-packages\\networkx\\generators\\stochastic.py:56: UserWarning: zero out-degree for node 3339207318\n",
      "  warnings.warn('zero out-degree for node %s' % u)\n",
      "C:\\Anaconda\\lib\\site-packages\\networkx\\generators\\stochastic.py:56: UserWarning: zero out-degree for node 907764589\n",
      "  warnings.warn('zero out-degree for node %s' % u)\n",
      "C:\\Anaconda\\lib\\site-packages\\networkx\\generators\\stochastic.py:56: UserWarning: zero out-degree for node 4061916745\n",
      "  warnings.warn('zero out-degree for node %s' % u)\n",
      "C:\\Anaconda\\lib\\site-packages\\networkx\\generators\\stochastic.py:56: UserWarning: zero out-degree for node 3160381515\n",
      "  warnings.warn('zero out-degree for node %s' % u)\n",
      "C:\\Anaconda\\lib\\site-packages\\networkx\\generators\\stochastic.py:56: UserWarning: zero out-degree for node 3850533087\n",
      "  warnings.warn('zero out-degree for node %s' % u)\n",
      "C:\\Anaconda\\lib\\site-packages\\networkx\\generators\\stochastic.py:56: UserWarning: zero out-degree for node 3806817507\n",
      "  warnings.warn('zero out-degree for node %s' % u)\n",
      "C:\\Anaconda\\lib\\site-packages\\networkx\\generators\\stochastic.py:56: UserWarning: zero out-degree for node 3850533190\n",
      "  warnings.warn('zero out-degree for node %s' % u)\n",
      "C:\\Anaconda\\lib\\site-packages\\networkx\\generators\\stochastic.py:56: UserWarning: zero out-degree for node 3806817518\n",
      "  warnings.warn('zero out-degree for node %s' % u)\n",
      "C:\\Anaconda\\lib\\site-packages\\networkx\\generators\\stochastic.py:56: UserWarning: zero out-degree for node 3982588619\n",
      "  warnings.warn('zero out-degree for node %s' % u)\n"
     ]
    },
    {
     "name": "stdout",
     "output_type": "stream",
     "text": [
      "Churchill Heights, San-Antonio, TX failed: float division by zero\n",
      "Tierra Del Sol, San-Antonio, TX failed: float division by zero\n",
      "Wynnwood, San-Antonio, TX failed: float division by zero\n"
     ]
    },
    {
     "name": "stderr",
     "output_type": "stream",
     "text": [
      "C:\\Anaconda\\lib\\site-packages\\networkx\\generators\\stochastic.py:56: UserWarning: zero out-degree for node 3492569608\n",
      "  warnings.warn('zero out-degree for node %s' % u)\n",
      "C:\\Anaconda\\lib\\site-packages\\networkx\\generators\\stochastic.py:56: UserWarning: zero out-degree for node 4124847451\n",
      "  warnings.warn('zero out-degree for node %s' % u)\n"
     ]
    }
   ],
   "source": [
    "#sample = list(range(0, len(df), int(len(df)/100)))\n",
    "#stats = df.iloc[sample].apply(load_graph_get_stats, axis=1)\n",
    "stats = df.apply(load_graph_get_stats, axis=1)"
   ]
  },
  {
   "cell_type": "code",
   "execution_count": 6,
   "metadata": {
    "collapsed": false
   },
   "outputs": [
    {
     "name": "stdout",
     "output_type": "stream",
     "text": [
      "6857\n"
     ]
    },
    {
     "data": {
      "text/plain": [
       "1709.3586766719818"
      ]
     },
     "execution_count": 6,
     "metadata": {},
     "output_type": "execute_result"
    }
   ],
   "source": [
    "stats.to_csv('stats_every_nhood.csv', encoding='utf-8', index=False)\n",
    "print(len(stats))\n",
    "stats['time'].sum()"
   ]
  },
  {
   "cell_type": "code",
   "execution_count": null,
   "metadata": {
    "collapsed": true
   },
   "outputs": [],
   "source": []
  }
 ],
 "metadata": {
  "anaconda-cloud": {},
  "kernelspec": {
   "display_name": "Python [conda root]",
   "language": "python",
   "name": "conda-root-py"
  },
  "language_info": {
   "codemirror_mode": {
    "name": "ipython",
    "version": 3
   },
   "file_extension": ".py",
   "mimetype": "text/x-python",
   "name": "python",
   "nbconvert_exporter": "python",
   "pygments_lexer": "ipython3",
   "version": "3.5.2"
  }
 },
 "nbformat": 4,
 "nbformat_minor": 1
}
