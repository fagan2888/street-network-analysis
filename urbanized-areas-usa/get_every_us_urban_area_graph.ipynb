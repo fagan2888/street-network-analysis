{
 "cells": [
  {
   "cell_type": "code",
   "execution_count": 1,
   "metadata": {
    "collapsed": true
   },
   "outputs": [],
   "source": [
    "import osmnx as ox, geopandas as gpd, time\n",
    "%matplotlib inline\n",
    "ox.config(use_cache=True, log_file=True, log_console=True, log_filename='get_every_us_urban_area_graph',\n",
    "          data_folder='G:/Geoff/osmnx/urbanized-areas-usa', cache_folder='G:/Geoff/osmnx/cache/urbanized-areas-usa')"
   ]
  },
  {
   "cell_type": "code",
   "execution_count": 2,
   "metadata": {
    "collapsed": true
   },
   "outputs": [],
   "source": [
    "network_type = 'drive_service'\n",
    "retain_all = True\n",
    "buffer = False"
   ]
  },
  {
   "cell_type": "markdown",
   "metadata": {},
   "source": [
    "## Load shapes"
   ]
  },
  {
   "cell_type": "code",
   "execution_count": 3,
   "metadata": {
    "collapsed": false
   },
   "outputs": [
    {
     "data": {
      "text/plain": [
       "3601"
      ]
     },
     "execution_count": 3,
     "metadata": {},
     "output_type": "execute_result"
    }
   ],
   "source": [
    "gdf = gpd.read_file('input_data/tl_2016_us_uac10').sort_values(by='ALAND10', ascending=True)\n",
    "len(gdf)"
   ]
  },
  {
   "cell_type": "code",
   "execution_count": 4,
   "metadata": {
    "collapsed": false
   },
   "outputs": [
    {
     "data": {
      "text/plain": [
       "497"
      ]
     },
     "execution_count": 4,
     "metadata": {},
     "output_type": "execute_result"
    }
   ],
   "source": [
    "# remove the tiny \"urban clusters\" to retain only \"urban areas\"\n",
    "urban_areas = gdf[~gdf['NAMELSAD10'].str.contains('Urban Cluster')]\n",
    "len(urban_areas)"
   ]
  },
  {
   "cell_type": "code",
   "execution_count": 5,
   "metadata": {
    "collapsed": false
   },
   "outputs": [
    {
     "name": "stdout",
     "output_type": "stream",
     "text": [
      "{'init': 'epsg:4269'}\n"
     ]
    },
    {
     "data": {
      "text/plain": [
       "{'init': 'epsg:4326'}"
      ]
     },
     "execution_count": 5,
     "metadata": {},
     "output_type": "execute_result"
    }
   ],
   "source": [
    "# tigerline data is epsg:4269, but osm uses epsg:4326, so project it\n",
    "print(urban_areas.crs)\n",
    "urban_areas = urban_areas.to_crs({'init':'epsg:4326'})\n",
    "urban_areas.crs"
   ]
  },
  {
   "cell_type": "code",
   "execution_count": 6,
   "metadata": {
    "collapsed": false
   },
   "outputs": [
    {
     "data": {
      "text/html": [
       "<div>\n",
       "<table border=\"1\" class=\"dataframe\">\n",
       "  <thead>\n",
       "    <tr style=\"text-align: right;\">\n",
       "      <th></th>\n",
       "      <th>ALAND10</th>\n",
       "      <th>NAMELSAD10</th>\n",
       "      <th>GEOID10</th>\n",
       "    </tr>\n",
       "  </thead>\n",
       "  <tbody>\n",
       "    <tr>\n",
       "      <th>1593</th>\n",
       "      <td>4852285339</td>\n",
       "      <td>Boston, MA--NH--RI Urbanized Area</td>\n",
       "      <td>09271</td>\n",
       "    </tr>\n",
       "    <tr>\n",
       "      <th>2546</th>\n",
       "      <td>5132095000</td>\n",
       "      <td>Philadelphia, PA--NJ--DE--MD Urbanized Area</td>\n",
       "      <td>69076</td>\n",
       "    </tr>\n",
       "    <tr>\n",
       "      <th>3250</th>\n",
       "      <td>6325255332</td>\n",
       "      <td>Chicago, IL--IN Urbanized Area</td>\n",
       "      <td>16264</td>\n",
       "    </tr>\n",
       "    <tr>\n",
       "      <th>3002</th>\n",
       "      <td>6850045152</td>\n",
       "      <td>Atlanta, GA Urbanized Area</td>\n",
       "      <td>03817</td>\n",
       "    </tr>\n",
       "    <tr>\n",
       "      <th>2321</th>\n",
       "      <td>8937429045</td>\n",
       "      <td>New York--Newark, NY--NJ--CT Urbanized Area</td>\n",
       "      <td>63217</td>\n",
       "    </tr>\n",
       "  </tbody>\n",
       "</table>\n",
       "</div>"
      ],
      "text/plain": [
       "         ALAND10                                   NAMELSAD10 GEOID10\n",
       "1593  4852285339            Boston, MA--NH--RI Urbanized Area   09271\n",
       "2546  5132095000  Philadelphia, PA--NJ--DE--MD Urbanized Area   69076\n",
       "3250  6325255332               Chicago, IL--IN Urbanized Area   16264\n",
       "3002  6850045152                   Atlanta, GA Urbanized Area   03817\n",
       "2321  8937429045  New York--Newark, NY--NJ--CT Urbanized Area   63217"
      ]
     },
     "execution_count": 6,
     "metadata": {},
     "output_type": "execute_result"
    }
   ],
   "source": [
    "urban_areas[['ALAND10', 'NAMELSAD10', 'GEOID10']].tail()"
   ]
  },
  {
   "cell_type": "code",
   "execution_count": 7,
   "metadata": {
    "collapsed": false
   },
   "outputs": [],
   "source": [
    "# optionally buffer so streets that form the boundary don't get ignored\n",
    "# but, buffering will mess up using ALAND for area as polygon area will capture nodes outside ALAND!\n",
    "if buffer:\n",
    "    buffer_dist = 50\n",
    "    urban_areas.name = 'urban_areas'\n",
    "    urban_areas_utm = ox.project_gdf(urban_areas)\n",
    "    urban_areas_utm['geometry'] = urban_areas_utm['geometry'].buffer(buffer_dist)\n",
    "    urban_areas_buffered = ox.project_gdf(urban_areas_utm, to_latlong=True)\n",
    "    print('Buffered geometry.')"
   ]
  },
  {
   "cell_type": "code",
   "execution_count": 8,
   "metadata": {
    "collapsed": false
   },
   "outputs": [
    {
     "data": {
      "image/svg+xml": [
       "<svg xmlns=\"http://www.w3.org/2000/svg\" xmlns:xlink=\"http://www.w3.org/1999/xlink\" width=\"100.0\" height=\"100.0\" viewBox=\"-119.33454716000003 35.72374584 0.12514932000003398 0.0714433200000002\" preserveAspectRatio=\"xMinYMin meet\"><g transform=\"matrix(1,0,0,-1,0,71.518935)\"><g><path fill-rule=\"evenodd\" fill=\"#66cc99\" stroke=\"#555555\" stroke-width=\"0.0025029864000006797\" opacity=\"0.6\" d=\"M -119.24071599999999,35.74689 L -119.24032600000001,35.746866 L -119.23996899999999,35.746734 L -119.239688,35.746511 L -119.23951800000002,35.746224 L -119.238911,35.744915 L -119.24024500000002,35.744499 L -119.240352,35.74476 L -119.240445,35.745025 L -119.240525,35.745293 L -119.24059100000001,35.745564 L -119.240643,35.745836000000004 L -119.24068100000001,35.74611 L -119.240705,35.746385 L -119.24071400000001,35.74666 L -119.24071599999999,35.74689 z\" /><path fill-rule=\"evenodd\" fill=\"#66cc99\" stroke=\"#555555\" stroke-width=\"0.0025029864000006797\" opacity=\"0.6\" d=\"M -119.27183400000001,35.768611 L -119.26738799999998,35.768616 L -119.26739599999999,35.771907999999996 L -119.26740200000002,35.774209 L -119.26740699999999,35.775774999999996 L -119.26740699999999,35.775863 L -119.267409,35.775998 L -119.267597,35.786576 L -119.267563,35.787132 L -119.267569,35.788720999999995 L -119.26766599999999,35.790406 L -119.26327699999999,35.790413 L -119.25927800000001,35.79042 L -119.258792,35.790420999999995 L -119.25364200000001,35.790431999999996 L -119.253601,35.790433 L -119.25308100000001,35.790433 L -119.25286200000001,35.790433 L -119.25262400000001,35.790431999999996 L -119.25258600000001,35.790433 L -119.251688,35.790434999999995 L -119.25105699999999,35.790437 L -119.25095499999999,35.790437 L -119.250918,35.790438 L -119.25089400000002,35.790438 L -119.250822,35.790438 L -119.25079899999999,35.790439 L -119.25076500000002,35.790439 L -119.250654,35.790442 L -119.250632,35.790442 L -119.250343,35.790442999999996 L -119.24947800000001,35.790447 L -119.24918999999998,35.790448999999995 L -119.245602,35.790448 L -119.24135799999999,35.790456 L -119.241193,35.790456999999996 L -119.240942,35.790456999999996 L -119.239803,35.790459000000006 L -119.23871100000001,35.790461 L -119.237598,35.790462999999995 L -119.23690300000001,35.79047 L -119.236778,35.790468 L -119.236479,35.790465 L -119.23536699999998,35.790467 L -119.23424800000002,35.790469 L -119.233344,35.79047 L -119.232654,35.790471 L -119.23245900000002,35.790471 L -119.232436,35.790472 L -119.225828,35.790478 L -119.223508,35.790467 L -119.22349400000002,35.790487 L -119.22315200000001,35.790469 L -119.223093,35.790471 L -119.22154499999999,35.790549 L -119.22003299999999,35.790551 L -119.21983800000001,35.790551 L -119.21884000000001,35.790554 L -119.218671,35.790551 L -119.218459,35.790548 L -119.218459,35.790493999999995 L -119.21471199999999,35.790493 L -119.21458600000001,35.790493 L -119.21439,35.790496 L -119.214033,35.790489 L -119.214041,35.787617 L -119.21405499999999,35.783142 L -119.2145,35.783144 L -119.22079200000002,35.783172 L -119.22311599999999,35.78318 L -119.223123,35.78132 L -119.223133,35.778421 L -119.223142,35.775866 L -119.223154,35.77182 L -119.22315899999998,35.770375 L -119.22316499999998,35.768665999999996 L -119.223177,35.765063999999995 L -119.223181,35.763624 L -119.223182,35.763251 L -119.223045,35.76137 L -119.22314600000001,35.757885 L -119.22315200000001,35.757475 L -119.231861,35.757521 L -119.236394,35.757532999999995 L -119.23662999999999,35.760079 L -119.236613,35.76026100000001 L -119.23763600000001,35.760241 L -119.237415,35.761415 L -119.23785800000002,35.761413 L -119.23798,35.760315999999996 L -119.238902,35.760245 L -119.239842,35.760242 L -119.24081600000001,35.760251 L -119.240799,35.757971 L -119.240794,35.75732 L -119.240787,35.756412999999995 L -119.240778,35.75508 L -119.24077,35.754058 L -119.240762,35.753009 L -119.24075800000001,35.752455 L -119.24071599999999,35.74689 L -119.24275,35.746885 L -119.243311,35.746883 L -119.24305500000001,35.746359999999996 L -119.24281800000001,35.745830999999995 L -119.24277,35.745692999999996 L -119.24272899999998,35.745551999999996 L -119.24269599999998,35.74541 L -119.24267100000002,35.745267999999996 L -119.242636,35.744982 L -119.24261199999998,35.744841 L -119.242549,35.744561 L -119.24246600000002,35.744284 L -119.24231099999999,35.743844 L -119.24216399999999,35.743384999999996 L -119.24221,35.743378 L -119.24158800000001,35.740716 L -119.241868,35.740727 L -119.24012899999998,35.733249 L -119.23992,35.732352 L -119.239988,35.732352 L -119.23911600000001,35.728483 L -119.240544,35.728381 L -119.24047099999999,35.732349 L -119.240576,35.732348 L -119.240946,35.732346 L -119.24166700000002,35.735427 L -119.24216300000002,35.737409 L -119.24240600000002,35.738799 L -119.24284399999999,35.740766 L -119.24206100000002,35.740735 L -119.24213499999998,35.741051999999996 L -119.242274,35.741389 L -119.24244300000001,35.741651 L -119.24264099999999,35.741899 L -119.24270300000002,35.741962 L -119.242867,35.742129999999996 L -119.242982,35.742227 L -119.24338900000001,35.74257 L -119.24356300000001,35.742781 L -119.243606,35.742833 L -119.243762,35.743123 L -119.24383900000001,35.74338 L -119.24385400000001,35.743431 L -119.24413099999998,35.744617999999996 L -119.24465900000001,35.74688 L -119.24601799999999,35.746876 L -119.250074,35.746865 L -119.250941,35.746862 L -119.258399,35.746842 L -119.25840000000002,35.746989 L -119.25841699999998,35.750744999999995 L -119.258427,35.752884 L -119.258433,35.753947 L -119.258433,35.754028 L -119.25844000000001,35.755503 L -119.258442,35.755924 L -119.25844599999999,35.756907999999996 L -119.25845,35.757742 L -119.258459,35.759591 L -119.25846799999998,35.761376 L -119.258474,35.764432 L -119.25847600000002,35.765747 L -119.25847900000001,35.767117 L -119.25848200000001,35.768459 L -119.25871399999998,35.768431 L -119.25906199999999,35.768454999999996 L -119.25973700000002,35.7686 L -119.260084,35.768623999999996 L -119.26129200000001,35.768623 L -119.26293499999998,35.768620999999996 L -119.262918,35.761373 L -119.265486,35.761371 L -119.267368,35.761368999999995 L -119.271814,35.761365 L -119.271824,35.765001999999996 L -119.27183400000001,35.768611 z\" /><path fill-rule=\"evenodd\" fill=\"#66cc99\" stroke=\"#555555\" stroke-width=\"0.0025029864000006797\" opacity=\"0.6\" d=\"M -119.29413600000001,35.775821 L -119.30305000000001,35.775827 L -119.303037,35.772126 L -119.30302499999999,35.76856 L -119.30589000000002,35.768592999999996 L -119.31178299999999,35.768628 L -119.311904,35.761295 L -119.32972,35.761254 L -119.32991200000002,35.775763999999995 L -119.329168,35.775767 L -119.322525,35.775791999999996 L -119.320967,35.775798 L -119.32097400000002,35.775898999999995 L -119.321043,35.780536 L -119.321139,35.786792999999996 L -119.32119199999998,35.79022 L -119.32048900000001,35.790219 L -119.320424,35.79022 L -119.303665,35.790344999999995 L -119.303133,35.790344 L -119.294233,35.790348 L -119.294137,35.775929999999995 L -119.29413600000001,35.775821 z\" /><path fill-rule=\"evenodd\" fill=\"#66cc99\" stroke=\"#555555\" stroke-width=\"0.0025029864000006797\" opacity=\"0.6\" d=\"M -119.27183400000001,35.768611 L -119.27225199999998,35.768609999999995 L -119.27449999999999,35.768606999999996 L -119.27629500000002,35.768605 L -119.276297,35.76938 L -119.27629900000001,35.770013999999996 L -119.27630100000002,35.77082 L -119.276303,35.771542 L -119.27630500000001,35.772228 L -119.28076000000001,35.772221 L -119.28075100000001,35.768599 L -119.28297900000001,35.768595 L -119.28520600000002,35.768594 L -119.285197,35.76497 L -119.289826,35.765001999999996 L -119.28988400000001,35.768523 L -119.29420999999999,35.768544 L -119.29419600000001,35.768688 L -119.29413600000001,35.775821 L -119.285224,35.775836999999996 L -119.28299700000001,35.775839999999995 L -119.28094899999999,35.775843 L -119.28077,35.775843 L -119.28076899999999,35.775659999999995 L -119.27671600000001,35.775639999999996 L -119.27661400000001,35.774553 L -119.276311,35.774547999999996 L -119.27231100000002,35.774535 L -119.272309,35.773697999999996 L -119.27184800000002,35.773699 L -119.27184600000001,35.772985 L -119.271844,35.772267 L -119.27183400000001,35.768611 z\" /></g></g></svg>"
      ],
      "text/plain": [
       "<shapely.geometry.multipolygon.MultiPolygon at 0x27dca79c400>"
      ]
     },
     "execution_count": 8,
     "metadata": {},
     "output_type": "execute_result"
    }
   ],
   "source": [
    "urban_areas['geometry'].iloc[0]"
   ]
  },
  {
   "cell_type": "markdown",
   "metadata": {},
   "source": [
    "## Begin process"
   ]
  },
  {
   "cell_type": "code",
   "execution_count": 9,
   "metadata": {
    "collapsed": false
   },
   "outputs": [
    {
     "data": {
      "text/plain": [
       "{'geoid': '22987',\n",
       " 'name': 'Delano, CA Urbanized Area',\n",
       " 'name_geoid': 'Delano__CA_Urbanized_Area_22987',\n",
       " 'polygon': <shapely.geometry.multipolygon.MultiPolygon at 0x27dca79c400>}"
      ]
     },
     "execution_count": 9,
     "metadata": {},
     "output_type": "execute_result"
    }
   ],
   "source": [
    "queries = urban_areas.apply(lambda row: {'name':row['NAMELSAD10'],\n",
    "                                         'geoid':row['GEOID10'],\n",
    "                                         'name_geoid':'{}_{}'.format(row['NAMELSAD10'], row['GEOID10']).replace(',', '_').replace(' ', '_'),\n",
    "                                         'polygon':row['geometry']}, axis=1).tolist()\n",
    "queries[0]"
   ]
  },
  {
   "cell_type": "code",
   "execution_count": 10,
   "metadata": {
    "collapsed": false
   },
   "outputs": [
    {
     "name": "stdout",
     "output_type": "stream",
     "text": [
      "Finished making graphs in 40,495.42 seconds\n"
     ]
    }
   ],
   "source": [
    "start_time = time.time()\n",
    "\n",
    "for query in queries:\n",
    "    try:\n",
    "        G = ox.graph_from_polygon(polygon=query['polygon'], network_type=network_type, \n",
    "                                  name=query['name_geoid'], retain_all=retain_all)\n",
    "        ox.save_graph_shapefile(G, filename=query['name_geoid'])\n",
    "        ox.save_graphml(G, filename='{}.graphml'.format(query['name_geoid']))\n",
    "    except Exception as e:\n",
    "        print('{} failed: {}'.format(name, e))\n",
    "        \n",
    "print('Finished making graphs in {:,.2f} seconds'.format(time.time() - start_time))"
   ]
  },
  {
   "cell_type": "code",
   "execution_count": 11,
   "metadata": {
    "collapsed": true
   },
   "outputs": [],
   "source": [
    "#45,000 seconds last time"
   ]
  }
 ],
 "metadata": {
  "anaconda-cloud": {},
  "kernelspec": {
   "display_name": "Python [default]",
   "language": "python",
   "name": "python3"
  },
  "language_info": {
   "codemirror_mode": {
    "name": "ipython",
    "version": 3
   },
   "file_extension": ".py",
   "mimetype": "text/x-python",
   "name": "python",
   "nbconvert_exporter": "python",
   "pygments_lexer": "ipython3",
   "version": "3.5.2"
  }
 },
 "nbformat": 4,
 "nbformat_minor": 0
}
