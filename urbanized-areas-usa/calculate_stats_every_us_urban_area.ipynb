{
 "cells": [
  {
   "cell_type": "code",
   "execution_count": 1,
   "metadata": {
    "collapsed": false
   },
   "outputs": [],
   "source": [
    "import osmnx as ox, networkx as nx, pandas as pd, geopandas as gpd, time, matplotlib.pyplot as plt, math\n",
    "import re\n",
    "import statsmodels.api as sm\n",
    "from geopy.distance import great_circle\n",
    "from shapely.geometry import Polygon\n",
    "%matplotlib inline\n",
    "ox.config(use_cache=True, log_file=True, log_console=True, log_filename='calc_stats_every_us_urban_area',\n",
    "          data_folder='G:/Geoff/osmnx/urbanized-areas-usa', cache_folder='G:/Geoff/osmnx/cache')"
   ]
  },
  {
   "cell_type": "code",
   "execution_count": 2,
   "metadata": {
    "collapsed": false
   },
   "outputs": [
    {
     "data": {
      "text/plain": [
       "3601"
      ]
     },
     "execution_count": 2,
     "metadata": {},
     "output_type": "execute_result"
    }
   ],
   "source": [
    "gdf = gpd.read_file('input_data/tl_2016_us_uac10').sort_values(by='ALAND10', ascending=False)\n",
    "len(gdf)"
   ]
  },
  {
   "cell_type": "code",
   "execution_count": 3,
   "metadata": {
    "collapsed": false
   },
   "outputs": [
    {
     "data": {
      "text/plain": [
       "497"
      ]
     },
     "execution_count": 3,
     "metadata": {},
     "output_type": "execute_result"
    }
   ],
   "source": [
    "# remove the tiny census \"urban clusters\" to retain only \"urban areas\"\n",
    "gdf = gdf[~gdf['NAMELSAD10'].str.contains('Urban Cluster')]\n",
    "len(gdf)"
   ]
  },
  {
   "cell_type": "code",
   "execution_count": 4,
   "metadata": {
    "collapsed": false
   },
   "outputs": [
    {
     "data": {
      "text/html": [
       "<div>\n",
       "<table border=\"1\" class=\"dataframe\">\n",
       "  <thead>\n",
       "    <tr style=\"text-align: right;\">\n",
       "      <th></th>\n",
       "      <th>NAMELSAD10</th>\n",
       "      <th>ALAND10</th>\n",
       "      <th>AWATER10</th>\n",
       "      <th>GEOID10</th>\n",
       "      <th>geometry</th>\n",
       "    </tr>\n",
       "  </thead>\n",
       "  <tbody>\n",
       "    <tr>\n",
       "      <th>2321</th>\n",
       "      <td>New York--Newark, NY--NJ--CT Urbanized Area</td>\n",
       "      <td>8937429045</td>\n",
       "      <td>532939320</td>\n",
       "      <td>63217</td>\n",
       "      <td>(POLYGON ((-74.896562 40.561084, -74.896255 40...</td>\n",
       "    </tr>\n",
       "    <tr>\n",
       "      <th>3002</th>\n",
       "      <td>Atlanta, GA Urbanized Area</td>\n",
       "      <td>6850045152</td>\n",
       "      <td>94712176</td>\n",
       "      <td>03817</td>\n",
       "      <td>(POLYGON ((-85.04216699999999 33.714332, -85.0...</td>\n",
       "    </tr>\n",
       "    <tr>\n",
       "      <th>3250</th>\n",
       "      <td>Chicago, IL--IN Urbanized Area</td>\n",
       "      <td>6325255332</td>\n",
       "      <td>106765178</td>\n",
       "      <td>16264</td>\n",
       "      <td>(POLYGON ((-88.471932 42.120298, -88.472899 42...</td>\n",
       "    </tr>\n",
       "    <tr>\n",
       "      <th>2546</th>\n",
       "      <td>Philadelphia, PA--NJ--DE--MD Urbanized Area</td>\n",
       "      <td>5132095000</td>\n",
       "      <td>127546905</td>\n",
       "      <td>69076</td>\n",
       "      <td>(POLYGON ((-76.02113299999999 39.981897, -76.0...</td>\n",
       "    </tr>\n",
       "    <tr>\n",
       "      <th>1593</th>\n",
       "      <td>Boston, MA--NH--RI Urbanized Area</td>\n",
       "      <td>4852285339</td>\n",
       "      <td>202265876</td>\n",
       "      <td>09271</td>\n",
       "      <td>(POLYGON ((-71.64691599999999 42.644126, -71.6...</td>\n",
       "    </tr>\n",
       "  </tbody>\n",
       "</table>\n",
       "</div>"
      ],
      "text/plain": [
       "                                       NAMELSAD10     ALAND10   AWATER10  \\\n",
       "2321  New York--Newark, NY--NJ--CT Urbanized Area  8937429045  532939320   \n",
       "3002                   Atlanta, GA Urbanized Area  6850045152   94712176   \n",
       "3250               Chicago, IL--IN Urbanized Area  6325255332  106765178   \n",
       "2546  Philadelphia, PA--NJ--DE--MD Urbanized Area  5132095000  127546905   \n",
       "1593            Boston, MA--NH--RI Urbanized Area  4852285339  202265876   \n",
       "\n",
       "     GEOID10                                           geometry  \n",
       "2321   63217  (POLYGON ((-74.896562 40.561084, -74.896255 40...  \n",
       "3002   03817  (POLYGON ((-85.04216699999999 33.714332, -85.0...  \n",
       "3250   16264  (POLYGON ((-88.471932 42.120298, -88.472899 42...  \n",
       "2546   69076  (POLYGON ((-76.02113299999999 39.981897, -76.0...  \n",
       "1593   09271  (POLYGON ((-71.64691599999999 42.644126, -71.6...  "
      ]
     },
     "execution_count": 4,
     "metadata": {},
     "output_type": "execute_result"
    }
   ],
   "source": [
    "gdf[['NAMELSAD10', 'ALAND10', 'AWATER10', 'GEOID10', 'geometry']].head()"
   ]
  },
  {
   "cell_type": "code",
   "execution_count": 5,
   "metadata": {
    "collapsed": false
   },
   "outputs": [],
   "source": [
    "def load_graph_get_stats(row):\n",
    "    \n",
    "    start_time = time.time()\n",
    "    name = row['NAMELSAD10']\n",
    "    geoid = row['GEOID10']\n",
    "    land_area = row['ALAND10']\n",
    "    name_geoid = '{}_{}'.format(row['NAMELSAD10'], row['GEOID10']).replace(',', '_').replace(' ', '_')\n",
    "    \n",
    "    try:\n",
    "        G = ox.load_graphml('{}.graphml'.format(name_geoid))\n",
    "        stats = ox.basic_stats(G, area=land_area)\n",
    "        stats['name'] = name\n",
    "        stats['geoid'] = geoid\n",
    "        stats['area'] = land_area\n",
    "        stats['time'] = time.time()-start_time\n",
    "        \n",
    "        # unpack k-counts and k-proportion dicts into individiual keys:values\n",
    "        for k, count in stats['counts_streets_per_intersection'].items():\n",
    "            stats['int_{}_streets_count'.format(k)] = count\n",
    "        for k, proportion in stats['proportion_streets_per_intersection'].items():\n",
    "            stats['int_{}_streets_prop'.format(k)] = proportion\n",
    "        \n",
    "        return pd.Series(stats)\n",
    "\n",
    "    except Exception as e:\n",
    "        print('{} failed: {}'.format(name, e))"
   ]
  },
  {
   "cell_type": "code",
   "execution_count": 6,
   "metadata": {
    "collapsed": false
   },
   "outputs": [
    {
     "data": {
      "text/html": [
       "<div>\n",
       "<table border=\"1\" class=\"dataframe\">\n",
       "  <thead>\n",
       "    <tr style=\"text-align: right;\">\n",
       "      <th></th>\n",
       "      <th>area</th>\n",
       "      <th>avg_circuity</th>\n",
       "      <th>avg_edge_length</th>\n",
       "      <th>avg_street_length</th>\n",
       "      <th>avg_streets_per_intersection</th>\n",
       "      <th>count_street_segments</th>\n",
       "      <th>counts_streets_per_intersection</th>\n",
       "      <th>edge_density_km</th>\n",
       "      <th>geoid</th>\n",
       "      <th>int_0_streets_count</th>\n",
       "      <th>...</th>\n",
       "      <th>k_avg</th>\n",
       "      <th>m</th>\n",
       "      <th>n</th>\n",
       "      <th>name</th>\n",
       "      <th>node_density_km</th>\n",
       "      <th>proportion_streets_per_intersection</th>\n",
       "      <th>self_loop_proportion</th>\n",
       "      <th>time</th>\n",
       "      <th>total_edge_length</th>\n",
       "      <th>total_street_length</th>\n",
       "    </tr>\n",
       "  </thead>\n",
       "  <tbody>\n",
       "    <tr>\n",
       "      <th>2321</th>\n",
       "      <td>8937429045</td>\n",
       "      <td>1.066086</td>\n",
       "      <td>138.196978</td>\n",
       "      <td>140.776460</td>\n",
       "      <td>2.830807</td>\n",
       "      <td>592255</td>\n",
       "      <td>{0: 1, 1: 75508, 2: 2090, 3: 259280, 4: 79117,...</td>\n",
       "      <td>16817.534433</td>\n",
       "      <td>63217</td>\n",
       "      <td>1</td>\n",
       "      <td>...</td>\n",
       "      <td>5.209273</td>\n",
       "      <td>1087618</td>\n",
       "      <td>417570</td>\n",
       "      <td>New York--Newark, NY--NJ--CT Urbanized Area</td>\n",
       "      <td>46.721490</td>\n",
       "      <td>{0: 2.394808056134301e-06, 1: 0.18082716670258...</td>\n",
       "      <td>0.007695</td>\n",
       "      <td>166.890025</td>\n",
       "      <td>1.503055e+08</td>\n",
       "      <td>8.337556e+07</td>\n",
       "    </tr>\n",
       "    <tr>\n",
       "      <th>3002</th>\n",
       "      <td>6850045152</td>\n",
       "      <td>1.102635</td>\n",
       "      <td>163.024668</td>\n",
       "      <td>165.005023</td>\n",
       "      <td>2.461270</td>\n",
       "      <td>270491</td>\n",
       "      <td>{0: 0, 1: 69105, 2: 818, 3: 129036, 4: 19836, ...</td>\n",
       "      <td>12111.962800</td>\n",
       "      <td>03817</td>\n",
       "      <td>0</td>\n",
       "      <td>...</td>\n",
       "      <td>4.641304</td>\n",
       "      <td>508926</td>\n",
       "      <td>219303</td>\n",
       "      <td>Atlanta, GA Urbanized Area</td>\n",
       "      <td>32.014825</td>\n",
       "      <td>{0: 0.0, 1: 0.3151119683725257, 2: 0.003729999...</td>\n",
       "      <td>0.010398</td>\n",
       "      <td>82.578143</td>\n",
       "      <td>8.296749e+07</td>\n",
       "      <td>4.463237e+07</td>\n",
       "    </tr>\n",
       "    <tr>\n",
       "      <th>3250</th>\n",
       "      <td>6325255332</td>\n",
       "      <td>1.068456</td>\n",
       "      <td>131.493808</td>\n",
       "      <td>132.673476</td>\n",
       "      <td>2.951925</td>\n",
       "      <td>443845</td>\n",
       "      <td>{0: 0, 1: 45433, 2: 1474, 3: 175863, 4: 75968,...</td>\n",
       "      <td>17215.929666</td>\n",
       "      <td>16264</td>\n",
       "      <td>0</td>\n",
       "      <td>...</td>\n",
       "      <td>5.527209</td>\n",
       "      <td>828139</td>\n",
       "      <td>299659</td>\n",
       "      <td>Chicago, IL--IN Urbanized Area</td>\n",
       "      <td>47.375005</td>\n",
       "      <td>{0: 0.0, 1: 0.15161566981135224, 2: 0.00491892...</td>\n",
       "      <td>0.009053</td>\n",
       "      <td>116.152454</td>\n",
       "      <td>1.088952e+08</td>\n",
       "      <td>5.888646e+07</td>\n",
       "    </tr>\n",
       "    <tr>\n",
       "      <th>2546</th>\n",
       "      <td>5132095000</td>\n",
       "      <td>1.085334</td>\n",
       "      <td>142.455398</td>\n",
       "      <td>141.996745</td>\n",
       "      <td>2.842990</td>\n",
       "      <td>287604</td>\n",
       "      <td>{0: 0, 1: 34937, 2: 1152, 3: 127939, 4: 37311,...</td>\n",
       "      <td>14489.100116</td>\n",
       "      <td>69076</td>\n",
       "      <td>0</td>\n",
       "      <td>...</td>\n",
       "      <td>5.161158</td>\n",
       "      <td>521984</td>\n",
       "      <td>202274</td>\n",
       "      <td>Philadelphia, PA--NJ--DE--MD Urbanized Area</td>\n",
       "      <td>39.413534</td>\n",
       "      <td>{0: 0.0, 1: 0.1727211604061817, 2: 0.005695245...</td>\n",
       "      <td>0.009928</td>\n",
       "      <td>77.639563</td>\n",
       "      <td>7.435944e+07</td>\n",
       "      <td>4.083883e+07</td>\n",
       "    </tr>\n",
       "    <tr>\n",
       "      <th>1593</th>\n",
       "      <td>4852285339</td>\n",
       "      <td>1.099111</td>\n",
       "      <td>132.870811</td>\n",
       "      <td>133.734702</td>\n",
       "      <td>2.681577</td>\n",
       "      <td>261615</td>\n",
       "      <td>{0: 0, 1: 41111, 2: 871, 3: 129895, 4: 20100, ...</td>\n",
       "      <td>13228.795154</td>\n",
       "      <td>09271</td>\n",
       "      <td>0</td>\n",
       "      <td>...</td>\n",
       "      <td>5.012711</td>\n",
       "      <td>483100</td>\n",
       "      <td>192750</td>\n",
       "      <td>Boston, MA--NH--RI Urbanized Area</td>\n",
       "      <td>39.723550</td>\n",
       "      <td>{0: 0.0, 1: 0.21328664072632944, 2: 0.00451880...</td>\n",
       "      <td>0.021174</td>\n",
       "      <td>82.099271</td>\n",
       "      <td>6.418989e+07</td>\n",
       "      <td>3.498700e+07</td>\n",
       "    </tr>\n",
       "  </tbody>\n",
       "</table>\n",
       "<p>5 rows × 49 columns</p>\n",
       "</div>"
      ],
      "text/plain": [
       "            area  avg_circuity  avg_edge_length  avg_street_length  \\\n",
       "2321  8937429045      1.066086       138.196978         140.776460   \n",
       "3002  6850045152      1.102635       163.024668         165.005023   \n",
       "3250  6325255332      1.068456       131.493808         132.673476   \n",
       "2546  5132095000      1.085334       142.455398         141.996745   \n",
       "1593  4852285339      1.099111       132.870811         133.734702   \n",
       "\n",
       "      avg_streets_per_intersection  count_street_segments  \\\n",
       "2321                      2.830807                 592255   \n",
       "3002                      2.461270                 270491   \n",
       "3250                      2.951925                 443845   \n",
       "2546                      2.842990                 287604   \n",
       "1593                      2.681577                 261615   \n",
       "\n",
       "                        counts_streets_per_intersection  edge_density_km  \\\n",
       "2321  {0: 1, 1: 75508, 2: 2090, 3: 259280, 4: 79117,...     16817.534433   \n",
       "3002  {0: 0, 1: 69105, 2: 818, 3: 129036, 4: 19836, ...     12111.962800   \n",
       "3250  {0: 0, 1: 45433, 2: 1474, 3: 175863, 4: 75968,...     17215.929666   \n",
       "2546  {0: 0, 1: 34937, 2: 1152, 3: 127939, 4: 37311,...     14489.100116   \n",
       "1593  {0: 0, 1: 41111, 2: 871, 3: 129895, 4: 20100, ...     13228.795154   \n",
       "\n",
       "      geoid  int_0_streets_count         ...              k_avg        m  \\\n",
       "2321  63217                    1         ...           5.209273  1087618   \n",
       "3002  03817                    0         ...           4.641304   508926   \n",
       "3250  16264                    0         ...           5.527209   828139   \n",
       "2546  69076                    0         ...           5.161158   521984   \n",
       "1593  09271                    0         ...           5.012711   483100   \n",
       "\n",
       "           n                                         name  node_density_km  \\\n",
       "2321  417570  New York--Newark, NY--NJ--CT Urbanized Area        46.721490   \n",
       "3002  219303                   Atlanta, GA Urbanized Area        32.014825   \n",
       "3250  299659               Chicago, IL--IN Urbanized Area        47.375005   \n",
       "2546  202274  Philadelphia, PA--NJ--DE--MD Urbanized Area        39.413534   \n",
       "1593  192750            Boston, MA--NH--RI Urbanized Area        39.723550   \n",
       "\n",
       "                    proportion_streets_per_intersection  self_loop_proportion  \\\n",
       "2321  {0: 2.394808056134301e-06, 1: 0.18082716670258...              0.007695   \n",
       "3002  {0: 0.0, 1: 0.3151119683725257, 2: 0.003729999...              0.010398   \n",
       "3250  {0: 0.0, 1: 0.15161566981135224, 2: 0.00491892...              0.009053   \n",
       "2546  {0: 0.0, 1: 0.1727211604061817, 2: 0.005695245...              0.009928   \n",
       "1593  {0: 0.0, 1: 0.21328664072632944, 2: 0.00451880...              0.021174   \n",
       "\n",
       "            time  total_edge_length  total_street_length  \n",
       "2321  166.890025       1.503055e+08         8.337556e+07  \n",
       "3002   82.578143       8.296749e+07         4.463237e+07  \n",
       "3250  116.152454       1.088952e+08         5.888646e+07  \n",
       "2546   77.639563       7.435944e+07         4.083883e+07  \n",
       "1593   82.099271       6.418989e+07         3.498700e+07  \n",
       "\n",
       "[5 rows x 49 columns]"
      ]
     },
     "execution_count": 6,
     "metadata": {},
     "output_type": "execute_result"
    }
   ],
   "source": [
    "stats = gdf.apply(load_graph_get_stats, axis=1)\n",
    "stats.head()"
   ]
  },
  {
   "cell_type": "code",
   "execution_count": 7,
   "metadata": {
    "collapsed": false
   },
   "outputs": [
    {
     "data": {
      "text/plain": [
       "4028.2600576877594"
      ]
     },
     "execution_count": 7,
     "metadata": {},
     "output_type": "execute_result"
    }
   ],
   "source": [
    "stats.to_csv('usa_stats.csv', encoding='utf-8', index=False)\n",
    "stats['time'].sum()"
   ]
  },
  {
   "cell_type": "code",
   "execution_count": null,
   "metadata": {
    "collapsed": true
   },
   "outputs": [],
   "source": []
  }
 ],
 "metadata": {
  "anaconda-cloud": {},
  "kernelspec": {
   "display_name": "Python [conda root]",
   "language": "python",
   "name": "conda-root-py"
  },
  "language_info": {
   "codemirror_mode": {
    "name": "ipython",
    "version": 3
   },
   "file_extension": ".py",
   "mimetype": "text/x-python",
   "name": "python",
   "nbconvert_exporter": "python",
   "pygments_lexer": "ipython3",
   "version": "3.5.2"
  }
 },
 "nbformat": 4,
 "nbformat_minor": 1
}
