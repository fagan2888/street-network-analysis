{
 "cells": [
  {
   "cell_type": "code",
   "execution_count": 1,
   "metadata": {
    "collapsed": true
   },
   "outputs": [],
   "source": [
    "import osmnx as ox, pandas as pd, networkx as nx, time, geopandas as gpd, os, json\n",
    "%matplotlib inline\n",
    "ox.config(use_cache=True, log_file=True, log_console=True, log_filename='calculate_stats_every_us_city',\n",
    "          data_folder='G:/Geoff/osmnx/cities-usa', cache_folder='G:/Geoff/osmnx/cache/cities-usa')"
   ]
  },
  {
   "cell_type": "code",
   "execution_count": 2,
   "metadata": {
    "collapsed": false
   },
   "outputs": [],
   "source": [
    "data_folder = 'G:/Geoff/osmnx/cities-usa'\n",
    "shp_folder = 'input_data/places'"
   ]
  },
  {
   "cell_type": "markdown",
   "metadata": {},
   "source": [
    "## Make a DataFrame of all the cities that have .graphml files saved in the folder"
   ]
  },
  {
   "cell_type": "code",
   "execution_count": 3,
   "metadata": {
    "collapsed": false
   },
   "outputs": [],
   "source": [
    "places = []\n",
    "for state_folder in os.listdir(data_folder):\n",
    "    for city_file in os.listdir('{}/{}'.format(data_folder, state_folder)):\n",
    "        if '.graphml' in city_file:\n",
    "            data = {}\n",
    "            data['state_folder'] = state_folder\n",
    "            data['state_fips'] = state_folder.split('_')[0]\n",
    "            data['state'] = state_folder.split('_')[1]\n",
    "            data['city_file'] = city_file\n",
    "            data['geoid'] = city_file.split('_')[0]\n",
    "            data['city'] = city_file.strip('_{}'.format(data['geoid'])).replace('.graphml', '').replace('_', ' ')\n",
    "            places.append(data)\n",
    "\n",
    "df = pd.DataFrame(places)"
   ]
  },
  {
   "cell_type": "markdown",
   "metadata": {},
   "source": [
    "## Get land area data from shapefiles and merge into DataFrame"
   ]
  },
  {
   "cell_type": "code",
   "execution_count": 4,
   "metadata": {
    "collapsed": false
   },
   "outputs": [],
   "source": [
    "# load each state shapefile and get the geoid and aland for each city row\n",
    "gdf = gpd.GeoDataFrame()\n",
    "for state_fips in df['state_fips'].unique():\n",
    "    path = '{}/tl_2016_{}_place'.format(shp_folder, state_fips)\n",
    "    gdf = gdf.append(gpd.read_file(path)[['GEOID', 'ALAND']])\n",
    "\n",
    "# merge aland values into dataframe, on geoid\n",
    "gdf = gdf.rename(columns=str.lower)\n",
    "df = pd.merge(df, gdf, how='left', on='geoid')"
   ]
  },
  {
   "cell_type": "code",
   "execution_count": 5,
   "metadata": {
    "collapsed": false
   },
   "outputs": [
    {
     "name": "stdout",
     "output_type": "stream",
     "text": [
      "19655\n"
     ]
    },
    {
     "data": {
      "text/html": [
       "<div>\n",
       "<table border=\"1\" class=\"dataframe\">\n",
       "  <thead>\n",
       "    <tr style=\"text-align: right;\">\n",
       "      <th></th>\n",
       "      <th>city</th>\n",
       "      <th>city_file</th>\n",
       "      <th>geoid</th>\n",
       "      <th>state</th>\n",
       "      <th>state_fips</th>\n",
       "      <th>state_folder</th>\n",
       "      <th>aland</th>\n",
       "    </tr>\n",
       "  </thead>\n",
       "  <tbody>\n",
       "    <tr>\n",
       "      <th>0</th>\n",
       "      <td>Abbeville</td>\n",
       "      <td>0100124_Abbeville.graphml</td>\n",
       "      <td>0100124</td>\n",
       "      <td>AL</td>\n",
       "      <td>01</td>\n",
       "      <td>01_AL</td>\n",
       "      <td>40255362</td>\n",
       "    </tr>\n",
       "    <tr>\n",
       "      <th>1</th>\n",
       "      <td>Adamsville</td>\n",
       "      <td>0100460_Adamsville.graphml</td>\n",
       "      <td>0100460</td>\n",
       "      <td>AL</td>\n",
       "      <td>01</td>\n",
       "      <td>01_AL</td>\n",
       "      <td>65064935</td>\n",
       "    </tr>\n",
       "    <tr>\n",
       "      <th>2</th>\n",
       "      <td>Addison</td>\n",
       "      <td>0100484_Addison.graphml</td>\n",
       "      <td>0100484</td>\n",
       "      <td>AL</td>\n",
       "      <td>01</td>\n",
       "      <td>01_AL</td>\n",
       "      <td>9753292</td>\n",
       "    </tr>\n",
       "    <tr>\n",
       "      <th>3</th>\n",
       "      <td>Akron</td>\n",
       "      <td>0100676_Akron.graphml</td>\n",
       "      <td>0100676</td>\n",
       "      <td>AL</td>\n",
       "      <td>01</td>\n",
       "      <td>01_AL</td>\n",
       "      <td>1776164</td>\n",
       "    </tr>\n",
       "    <tr>\n",
       "      <th>4</th>\n",
       "      <td>Alabaster</td>\n",
       "      <td>0100820_Alabaster.graphml</td>\n",
       "      <td>0100820</td>\n",
       "      <td>AL</td>\n",
       "      <td>01</td>\n",
       "      <td>01_AL</td>\n",
       "      <td>65079075</td>\n",
       "    </tr>\n",
       "  </tbody>\n",
       "</table>\n",
       "</div>"
      ],
      "text/plain": [
       "         city                   city_file    geoid state state_fips  \\\n",
       "0   Abbeville   0100124_Abbeville.graphml  0100124    AL         01   \n",
       "1  Adamsville  0100460_Adamsville.graphml  0100460    AL         01   \n",
       "2     Addison     0100484_Addison.graphml  0100484    AL         01   \n",
       "3       Akron       0100676_Akron.graphml  0100676    AL         01   \n",
       "4   Alabaster   0100820_Alabaster.graphml  0100820    AL         01   \n",
       "\n",
       "  state_folder     aland  \n",
       "0        01_AL  40255362  \n",
       "1        01_AL  65064935  \n",
       "2        01_AL   9753292  \n",
       "3        01_AL   1776164  \n",
       "4        01_AL  65079075  "
      ]
     },
     "execution_count": 5,
     "metadata": {},
     "output_type": "execute_result"
    }
   ],
   "source": [
    "print(len(df))\n",
    "df.head()"
   ]
  },
  {
   "cell_type": "markdown",
   "metadata": {},
   "source": [
    "## Load graph and calculate stats for each city"
   ]
  },
  {
   "cell_type": "code",
   "execution_count": 6,
   "metadata": {
    "collapsed": true
   },
   "outputs": [],
   "source": [
    "def load_graph_get_stats(row):\n",
    "    \n",
    "    try:\n",
    "        start_time = time.time()\n",
    "        folder = '{}/{}'.format(data_folder, row['state_folder'])\n",
    "        G = ox.load_graphml(filename=row['city_file'], folder=folder)\n",
    "        \n",
    "        stats = ox.basic_stats(G, area=row['aland'])\n",
    "        \n",
    "        # unpack k-counts and k-proportion dicts into individiual keys:values\n",
    "        for k, count in stats['streets_per_node_counts'].items():\n",
    "            stats['int_{}_streets_count'.format(k)] = count\n",
    "        for k, proportion in stats['streets_per_node_proportion'].items():\n",
    "            stats['int_{}_streets_prop'.format(k)] = proportion\n",
    "            \n",
    "        # calculate/drop the extended stats that have values per node\n",
    "        extended_stats = ox.extended_stats(G)\n",
    "        se = pd.Series(extended_stats)\n",
    "        se = se.drop(['avg_neighbor_degree', 'avg_weighted_neighbor_degree', 'clustering_coefficient',\n",
    "                      'clustering_coefficient_weighted', 'degree_centrality', 'pagerank'])\n",
    "        extended_stats_clean = se.to_dict()\n",
    "        \n",
    "        for key in extended_stats_clean:\n",
    "            stats[key] = extended_stats_clean[key]\n",
    "        \n",
    "        stats['area_km'] = row['aland'] / 1e6        \n",
    "        stats['city'] = row['city']\n",
    "        stats['state'] = row['state']\n",
    "        stats['geoid'] = row['geoid']\n",
    "        stats['area'] = row['aland']\n",
    "        stats['time'] = time.time()-start_time\n",
    "        \n",
    "        return pd.Series(stats)\n",
    "\n",
    "    except Exception as e:\n",
    "        print('{}, {} failed: {}'.format(row['city'], row['state'], e))\n",
    "        return pd.Series()"
   ]
  },
  {
   "cell_type": "code",
   "execution_count": 7,
   "metadata": {
    "collapsed": false
   },
   "outputs": [
    {
     "name": "stderr",
     "output_type": "stream",
     "text": [
      "C:\\Anaconda\\lib\\site-packages\\networkx\\generators\\stochastic.py:56: UserWarning: zero out-degree for node 2393333257\n",
      "  warnings.warn('zero out-degree for node %s' % u)\n",
      "C:\\Anaconda\\lib\\site-packages\\networkx\\generators\\stochastic.py:56: UserWarning: zero out-degree for node 3470810800\n",
      "  warnings.warn('zero out-degree for node %s' % u)\n",
      "C:\\Anaconda\\lib\\site-packages\\networkx\\generators\\stochastic.py:56: UserWarning: zero out-degree for node 3313473837\n",
      "  warnings.warn('zero out-degree for node %s' % u)\n",
      "C:\\Anaconda\\lib\\site-packages\\networkx\\generators\\stochastic.py:56: UserWarning: zero out-degree for node 3738684460\n",
      "  warnings.warn('zero out-degree for node %s' % u)\n",
      "C:\\Anaconda\\lib\\site-packages\\networkx\\generators\\stochastic.py:56: UserWarning: zero out-degree for node 1350754467\n",
      "  warnings.warn('zero out-degree for node %s' % u)\n",
      "C:\\Anaconda\\lib\\site-packages\\networkx\\generators\\stochastic.py:56: UserWarning: zero out-degree for node 3230986763\n",
      "  warnings.warn('zero out-degree for node %s' % u)\n",
      "C:\\Anaconda\\lib\\site-packages\\networkx\\generators\\stochastic.py:56: UserWarning: zero out-degree for node 2675915756\n",
      "  warnings.warn('zero out-degree for node %s' % u)\n",
      "C:\\Anaconda\\lib\\site-packages\\networkx\\generators\\stochastic.py:56: UserWarning: zero out-degree for node 3656193019\n",
      "  warnings.warn('zero out-degree for node %s' % u)\n",
      "C:\\Anaconda\\lib\\site-packages\\networkx\\generators\\stochastic.py:56: UserWarning: zero out-degree for node 3900858337\n",
      "  warnings.warn('zero out-degree for node %s' % u)\n",
      "C:\\Anaconda\\lib\\site-packages\\networkx\\generators\\stochastic.py:56: UserWarning: zero out-degree for node 3148897956\n",
      "  warnings.warn('zero out-degree for node %s' % u)\n",
      "C:\\Anaconda\\lib\\site-packages\\networkx\\generators\\stochastic.py:56: UserWarning: zero out-degree for node 3236217611\n",
      "  warnings.warn('zero out-degree for node %s' % u)\n",
      "C:\\Anaconda\\lib\\site-packages\\networkx\\generators\\stochastic.py:56: UserWarning: zero out-degree for node 3748632374\n",
      "  warnings.warn('zero out-degree for node %s' % u)\n",
      "C:\\Anaconda\\lib\\site-packages\\networkx\\generators\\stochastic.py:56: UserWarning: zero out-degree for node 3158721044\n",
      "  warnings.warn('zero out-degree for node %s' % u)\n",
      "C:\\Anaconda\\lib\\site-packages\\networkx\\generators\\stochastic.py:56: UserWarning: zero out-degree for node 3158709696\n",
      "  warnings.warn('zero out-degree for node %s' % u)\n",
      "C:\\Anaconda\\lib\\site-packages\\networkx\\generators\\stochastic.py:56: UserWarning: zero out-degree for node 3158709716\n",
      "  warnings.warn('zero out-degree for node %s' % u)\n",
      "C:\\Anaconda\\lib\\site-packages\\networkx\\generators\\stochastic.py:56: UserWarning: zero out-degree for node 3158709729\n",
      "  warnings.warn('zero out-degree for node %s' % u)\n",
      "C:\\Anaconda\\lib\\site-packages\\networkx\\generators\\stochastic.py:56: UserWarning: zero out-degree for node 3748632391\n",
      "  warnings.warn('zero out-degree for node %s' % u)\n",
      "C:\\Anaconda\\lib\\site-packages\\networkx\\generators\\stochastic.py:56: UserWarning: zero out-degree for node 3748632417\n",
      "  warnings.warn('zero out-degree for node %s' % u)\n",
      "C:\\Anaconda\\lib\\site-packages\\networkx\\generators\\stochastic.py:56: UserWarning: zero out-degree for node 3158709661\n",
      "  warnings.warn('zero out-degree for node %s' % u)\n",
      "C:\\Anaconda\\lib\\site-packages\\networkx\\generators\\stochastic.py:56: UserWarning: zero out-degree for node 3158709668\n",
      "  warnings.warn('zero out-degree for node %s' % u)\n",
      "C:\\Anaconda\\lib\\site-packages\\networkx\\generators\\stochastic.py:56: UserWarning: zero out-degree for node 3748632414\n",
      "  warnings.warn('zero out-degree for node %s' % u)\n",
      "C:\\Anaconda\\lib\\site-packages\\networkx\\generators\\stochastic.py:56: UserWarning: zero out-degree for node 4334200861\n",
      "  warnings.warn('zero out-degree for node %s' % u)\n",
      "C:\\Anaconda\\lib\\site-packages\\networkx\\generators\\stochastic.py:56: UserWarning: zero out-degree for node 99583955\n",
      "  warnings.warn('zero out-degree for node %s' % u)\n",
      "C:\\Anaconda\\lib\\site-packages\\networkx\\generators\\stochastic.py:56: UserWarning: zero out-degree for node 2631596516\n",
      "  warnings.warn('zero out-degree for node %s' % u)\n",
      "C:\\Anaconda\\lib\\site-packages\\networkx\\generators\\stochastic.py:56: UserWarning: zero out-degree for node 100258130\n",
      "  warnings.warn('zero out-degree for node %s' % u)\n",
      "C:\\Anaconda\\lib\\site-packages\\networkx\\generators\\stochastic.py:56: UserWarning: zero out-degree for node 3696225484\n",
      "  warnings.warn('zero out-degree for node %s' % u)\n",
      "C:\\Anaconda\\lib\\site-packages\\networkx\\generators\\stochastic.py:56: UserWarning: zero out-degree for node 4012668467\n",
      "  warnings.warn('zero out-degree for node %s' % u)\n",
      "C:\\Anaconda\\lib\\site-packages\\networkx\\generators\\stochastic.py:56: UserWarning: zero out-degree for node 3922958947\n",
      "  warnings.warn('zero out-degree for node %s' % u)\n",
      "C:\\Anaconda\\lib\\site-packages\\networkx\\generators\\stochastic.py:56: UserWarning: zero out-degree for node 235624677\n",
      "  warnings.warn('zero out-degree for node %s' % u)\n",
      "C:\\Anaconda\\lib\\site-packages\\networkx\\generators\\stochastic.py:56: UserWarning: zero out-degree for node 1777254099\n",
      "  warnings.warn('zero out-degree for node %s' % u)\n",
      "C:\\Anaconda\\lib\\site-packages\\networkx\\generators\\stochastic.py:56: UserWarning: zero out-degree for node 181489418\n",
      "  warnings.warn('zero out-degree for node %s' % u)\n"
     ]
    },
    {
     "name": "stdout",
     "output_type": "stream",
     "text": [
      "Bassett, KS failed: float division by zero\n"
     ]
    },
    {
     "name": "stderr",
     "output_type": "stream",
     "text": [
      "C:\\Anaconda\\lib\\site-packages\\networkx\\generators\\stochastic.py:56: UserWarning: zero out-degree for node 122999416\n",
      "  warnings.warn('zero out-degree for node %s' % u)\n",
      "C:\\Anaconda\\lib\\site-packages\\networkx\\generators\\stochastic.py:56: UserWarning: zero out-degree for node 2069366689\n",
      "  warnings.warn('zero out-degree for node %s' % u)\n",
      "C:\\Anaconda\\lib\\site-packages\\networkx\\generators\\stochastic.py:56: UserWarning: zero out-degree for node 3789575032\n",
      "  warnings.warn('zero out-degree for node %s' % u)\n",
      "C:\\Anaconda\\lib\\site-packages\\networkx\\generators\\stochastic.py:56: UserWarning: zero out-degree for node 1956791865\n",
      "  warnings.warn('zero out-degree for node %s' % u)\n",
      "C:\\Anaconda\\lib\\site-packages\\networkx\\generators\\stochastic.py:56: UserWarning: zero out-degree for node 3132301366\n",
      "  warnings.warn('zero out-degree for node %s' % u)\n",
      "C:\\Anaconda\\lib\\site-packages\\networkx\\generators\\stochastic.py:56: UserWarning: zero out-degree for node 2854344978\n",
      "  warnings.warn('zero out-degree for node %s' % u)\n",
      "C:\\Anaconda\\lib\\site-packages\\networkx\\generators\\stochastic.py:56: UserWarning: zero out-degree for node 2854344148\n",
      "  warnings.warn('zero out-degree for node %s' % u)\n",
      "C:\\Anaconda\\lib\\site-packages\\networkx\\generators\\stochastic.py:56: UserWarning: zero out-degree for node 3283342421\n",
      "  warnings.warn('zero out-degree for node %s' % u)\n",
      "C:\\Anaconda\\lib\\site-packages\\networkx\\generators\\stochastic.py:56: UserWarning: zero out-degree for node 4376766999\n",
      "  warnings.warn('zero out-degree for node %s' % u)\n",
      "C:\\Anaconda\\lib\\site-packages\\networkx\\generators\\stochastic.py:56: UserWarning: zero out-degree for node 396128415\n",
      "  warnings.warn('zero out-degree for node %s' % u)\n",
      "C:\\Anaconda\\lib\\site-packages\\networkx\\generators\\stochastic.py:56: UserWarning: zero out-degree for node 396436026\n",
      "  warnings.warn('zero out-degree for node %s' % u)\n",
      "C:\\Anaconda\\lib\\site-packages\\networkx\\generators\\stochastic.py:56: UserWarning: zero out-degree for node 191039567\n",
      "  warnings.warn('zero out-degree for node %s' % u)\n",
      "C:\\Anaconda\\lib\\site-packages\\networkx\\generators\\stochastic.py:56: UserWarning: zero out-degree for node 402325265\n",
      "  warnings.warn('zero out-degree for node %s' % u)\n",
      "C:\\Anaconda\\lib\\site-packages\\networkx\\generators\\stochastic.py:56: UserWarning: zero out-degree for node 3167637588\n",
      "  warnings.warn('zero out-degree for node %s' % u)\n",
      "C:\\Anaconda\\lib\\site-packages\\networkx\\generators\\stochastic.py:56: UserWarning: zero out-degree for node 3167637589\n",
      "  warnings.warn('zero out-degree for node %s' % u)\n",
      "C:\\Anaconda\\lib\\site-packages\\networkx\\generators\\stochastic.py:56: UserWarning: zero out-degree for node 3167637590\n",
      "  warnings.warn('zero out-degree for node %s' % u)\n",
      "C:\\Anaconda\\lib\\site-packages\\networkx\\generators\\stochastic.py:56: UserWarning: zero out-degree for node 3167637592\n",
      "  warnings.warn('zero out-degree for node %s' % u)\n",
      "C:\\Anaconda\\lib\\site-packages\\networkx\\generators\\stochastic.py:56: UserWarning: zero out-degree for node 3167637593\n",
      "  warnings.warn('zero out-degree for node %s' % u)\n",
      "C:\\Anaconda\\lib\\site-packages\\networkx\\generators\\stochastic.py:56: UserWarning: zero out-degree for node 3167637591\n",
      "  warnings.warn('zero out-degree for node %s' % u)\n",
      "C:\\Anaconda\\lib\\site-packages\\networkx\\generators\\stochastic.py:56: UserWarning: zero out-degree for node 3167637594\n",
      "  warnings.warn('zero out-degree for node %s' % u)\n",
      "C:\\Anaconda\\lib\\site-packages\\networkx\\generators\\stochastic.py:56: UserWarning: zero out-degree for node 3740822221\n",
      "  warnings.warn('zero out-degree for node %s' % u)\n",
      "C:\\Anaconda\\lib\\site-packages\\networkx\\generators\\stochastic.py:56: UserWarning: zero out-degree for node 3163599926\n",
      "  warnings.warn('zero out-degree for node %s' % u)\n",
      "C:\\Anaconda\\lib\\site-packages\\networkx\\generators\\stochastic.py:56: UserWarning: zero out-degree for node 104277311\n",
      "  warnings.warn('zero out-degree for node %s' % u)\n",
      "C:\\Anaconda\\lib\\site-packages\\networkx\\generators\\stochastic.py:56: UserWarning: zero out-degree for node 104277327\n",
      "  warnings.warn('zero out-degree for node %s' % u)\n",
      "C:\\Anaconda\\lib\\site-packages\\networkx\\generators\\stochastic.py:56: UserWarning: zero out-degree for node 103792884\n",
      "  warnings.warn('zero out-degree for node %s' % u)\n",
      "C:\\Anaconda\\lib\\site-packages\\networkx\\generators\\stochastic.py:56: UserWarning: zero out-degree for node 3160151839\n",
      "  warnings.warn('zero out-degree for node %s' % u)\n",
      "C:\\Anaconda\\lib\\site-packages\\networkx\\generators\\stochastic.py:56: UserWarning: zero out-degree for node 3198043040\n",
      "  warnings.warn('zero out-degree for node %s' % u)\n",
      "C:\\Anaconda\\lib\\site-packages\\networkx\\generators\\stochastic.py:56: UserWarning: zero out-degree for node 3198042970\n",
      "  warnings.warn('zero out-degree for node %s' % u)\n",
      "C:\\Anaconda\\lib\\site-packages\\networkx\\generators\\stochastic.py:56: UserWarning: zero out-degree for node 3158095663\n",
      "  warnings.warn('zero out-degree for node %s' % u)\n",
      "C:\\Anaconda\\lib\\site-packages\\networkx\\generators\\stochastic.py:56: UserWarning: zero out-degree for node 3350640569\n",
      "  warnings.warn('zero out-degree for node %s' % u)\n",
      "C:\\Anaconda\\lib\\site-packages\\networkx\\generators\\stochastic.py:56: UserWarning: zero out-degree for node 3767739378\n",
      "  warnings.warn('zero out-degree for node %s' % u)\n",
      "C:\\Anaconda\\lib\\site-packages\\networkx\\generators\\stochastic.py:56: UserWarning: zero out-degree for node 3133584978\n",
      "  warnings.warn('zero out-degree for node %s' % u)\n",
      "C:\\Anaconda\\lib\\site-packages\\networkx\\generators\\stochastic.py:56: UserWarning: zero out-degree for node 3139392060\n",
      "  warnings.warn('zero out-degree for node %s' % u)\n",
      "C:\\Anaconda\\lib\\site-packages\\networkx\\generators\\stochastic.py:56: UserWarning: zero out-degree for node 3992874201\n",
      "  warnings.warn('zero out-degree for node %s' % u)\n",
      "C:\\Anaconda\\lib\\site-packages\\networkx\\generators\\stochastic.py:56: UserWarning: zero out-degree for node 907764589\n",
      "  warnings.warn('zero out-degree for node %s' % u)\n",
      "C:\\Anaconda\\lib\\site-packages\\networkx\\generators\\stochastic.py:56: UserWarning: zero out-degree for node 450708251\n",
      "  warnings.warn('zero out-degree for node %s' % u)\n",
      "C:\\Anaconda\\lib\\site-packages\\networkx\\generators\\stochastic.py:56: UserWarning: zero out-degree for node 4061916745\n",
      "  warnings.warn('zero out-degree for node %s' % u)\n",
      "C:\\Anaconda\\lib\\site-packages\\networkx\\generators\\stochastic.py:56: UserWarning: zero out-degree for node 3224013815\n",
      "  warnings.warn('zero out-degree for node %s' % u)\n",
      "C:\\Anaconda\\lib\\site-packages\\networkx\\generators\\stochastic.py:56: UserWarning: zero out-degree for node 3400399381\n",
      "  warnings.warn('zero out-degree for node %s' % u)\n",
      "C:\\Anaconda\\lib\\site-packages\\networkx\\generators\\stochastic.py:56: UserWarning: zero out-degree for node 3400399382\n",
      "  warnings.warn('zero out-degree for node %s' % u)\n",
      "C:\\Anaconda\\lib\\site-packages\\networkx\\generators\\stochastic.py:56: UserWarning: zero out-degree for node 453052903\n",
      "  warnings.warn('zero out-degree for node %s' % u)\n"
     ]
    },
    {
     "name": "stdout",
     "output_type": "stream",
     "text": [
      "Lake Aluma, OK failed: float division by zero\n"
     ]
    },
    {
     "name": "stderr",
     "output_type": "stream",
     "text": [
      "C:\\Anaconda\\lib\\site-packages\\networkx\\generators\\stochastic.py:56: UserWarning: zero out-degree for node 40011195\n",
      "  warnings.warn('zero out-degree for node %s' % u)\n",
      "C:\\Anaconda\\lib\\site-packages\\networkx\\generators\\stochastic.py:56: UserWarning: zero out-degree for node 40011193\n",
      "  warnings.warn('zero out-degree for node %s' % u)\n",
      "C:\\Anaconda\\lib\\site-packages\\networkx\\generators\\stochastic.py:56: UserWarning: zero out-degree for node 4307634985\n",
      "  warnings.warn('zero out-degree for node %s' % u)\n",
      "C:\\Anaconda\\lib\\site-packages\\networkx\\generators\\stochastic.py:56: UserWarning: zero out-degree for node 2699198150\n",
      "  warnings.warn('zero out-degree for node %s' % u)\n",
      "C:\\Anaconda\\lib\\site-packages\\networkx\\generators\\stochastic.py:56: UserWarning: zero out-degree for node 3353439526\n",
      "  warnings.warn('zero out-degree for node %s' % u)\n",
      "C:\\Anaconda\\lib\\site-packages\\networkx\\generators\\stochastic.py:56: UserWarning: zero out-degree for node 3353439529\n",
      "  warnings.warn('zero out-degree for node %s' % u)\n",
      "C:\\Anaconda\\lib\\site-packages\\networkx\\generators\\stochastic.py:56: UserWarning: zero out-degree for node 3160381515\n",
      "  warnings.warn('zero out-degree for node %s' % u)\n",
      "C:\\Anaconda\\lib\\site-packages\\networkx\\generators\\stochastic.py:56: UserWarning: zero out-degree for node 3144949957\n",
      "  warnings.warn('zero out-degree for node %s' % u)\n",
      "C:\\Anaconda\\lib\\site-packages\\networkx\\generators\\stochastic.py:56: UserWarning: zero out-degree for node 3144949973\n",
      "  warnings.warn('zero out-degree for node %s' % u)\n",
      "C:\\Anaconda\\lib\\site-packages\\networkx\\generators\\stochastic.py:56: UserWarning: zero out-degree for node 3144949981\n",
      "  warnings.warn('zero out-degree for node %s' % u)\n",
      "C:\\Anaconda\\lib\\site-packages\\networkx\\generators\\stochastic.py:56: UserWarning: zero out-degree for node 3806817507\n",
      "  warnings.warn('zero out-degree for node %s' % u)\n",
      "C:\\Anaconda\\lib\\site-packages\\networkx\\generators\\stochastic.py:56: UserWarning: zero out-degree for node 3806817518\n",
      "  warnings.warn('zero out-degree for node %s' % u)\n",
      "C:\\Anaconda\\lib\\site-packages\\networkx\\generators\\stochastic.py:56: UserWarning: zero out-degree for node 3850533087\n",
      "  warnings.warn('zero out-degree for node %s' % u)\n",
      "C:\\Anaconda\\lib\\site-packages\\networkx\\generators\\stochastic.py:56: UserWarning: zero out-degree for node 3850533190\n",
      "  warnings.warn('zero out-degree for node %s' % u)\n",
      "C:\\Anaconda\\lib\\site-packages\\networkx\\generators\\stochastic.py:56: UserWarning: zero out-degree for node 3986411768\n",
      "  warnings.warn('zero out-degree for node %s' % u)\n",
      "C:\\Anaconda\\lib\\site-packages\\networkx\\generators\\stochastic.py:56: UserWarning: zero out-degree for node 3136114921\n",
      "  warnings.warn('zero out-degree for node %s' % u)\n",
      "C:\\Anaconda\\lib\\site-packages\\networkx\\generators\\stochastic.py:56: UserWarning: zero out-degree for node 202734860\n",
      "  warnings.warn('zero out-degree for node %s' % u)\n",
      "C:\\Anaconda\\lib\\site-packages\\networkx\\generators\\stochastic.py:56: UserWarning: zero out-degree for node 3982588619\n",
      "  warnings.warn('zero out-degree for node %s' % u)\n",
      "C:\\Anaconda\\lib\\site-packages\\networkx\\generators\\stochastic.py:56: UserWarning: zero out-degree for node 3885289604\n",
      "  warnings.warn('zero out-degree for node %s' % u)\n",
      "C:\\Anaconda\\lib\\site-packages\\networkx\\generators\\stochastic.py:56: UserWarning: zero out-degree for node 4213894240\n",
      "  warnings.warn('zero out-degree for node %s' % u)\n",
      "C:\\Anaconda\\lib\\site-packages\\networkx\\generators\\stochastic.py:56: UserWarning: zero out-degree for node 3802916211\n",
      "  warnings.warn('zero out-degree for node %s' % u)\n",
      "C:\\Anaconda\\lib\\site-packages\\networkx\\generators\\stochastic.py:56: UserWarning: zero out-degree for node 1606768467\n",
      "  warnings.warn('zero out-degree for node %s' % u)\n",
      "C:\\Anaconda\\lib\\site-packages\\networkx\\generators\\stochastic.py:56: UserWarning: zero out-degree for node 3428077846\n",
      "  warnings.warn('zero out-degree for node %s' % u)\n",
      "C:\\Anaconda\\lib\\site-packages\\networkx\\generators\\stochastic.py:56: UserWarning: zero out-degree for node 3999126346\n",
      "  warnings.warn('zero out-degree for node %s' % u)\n",
      "C:\\Anaconda\\lib\\site-packages\\networkx\\generators\\stochastic.py:56: UserWarning: zero out-degree for node 2397575828\n",
      "  warnings.warn('zero out-degree for node %s' % u)\n",
      "C:\\Anaconda\\lib\\site-packages\\networkx\\generators\\stochastic.py:56: UserWarning: zero out-degree for node 3729787721\n",
      "  warnings.warn('zero out-degree for node %s' % u)\n"
     ]
    },
    {
     "name": "stdout",
     "output_type": "stream",
     "text": [
      "Ophir, UT failed: float division by zero\n"
     ]
    },
    {
     "name": "stderr",
     "output_type": "stream",
     "text": [
      "C:\\Anaconda\\lib\\site-packages\\networkx\\generators\\stochastic.py:56: UserWarning: zero out-degree for node 221373541\n",
      "  warnings.warn('zero out-degree for node %s' % u)\n",
      "C:\\Anaconda\\lib\\site-packages\\networkx\\generators\\stochastic.py:56: UserWarning: zero out-degree for node 4124847451\n",
      "  warnings.warn('zero out-degree for node %s' % u)\n",
      "C:\\Anaconda\\lib\\site-packages\\networkx\\generators\\stochastic.py:56: UserWarning: zero out-degree for node 37068829\n",
      "  warnings.warn('zero out-degree for node %s' % u)\n",
      "C:\\Anaconda\\lib\\site-packages\\networkx\\generators\\stochastic.py:56: UserWarning: zero out-degree for node 497065669\n",
      "  warnings.warn('zero out-degree for node %s' % u)\n",
      "C:\\Anaconda\\lib\\site-packages\\networkx\\generators\\stochastic.py:56: UserWarning: zero out-degree for node 53441671\n",
      "  warnings.warn('zero out-degree for node %s' % u)\n",
      "C:\\Anaconda\\lib\\site-packages\\networkx\\generators\\stochastic.py:56: UserWarning: zero out-degree for node 231264097\n",
      "  warnings.warn('zero out-degree for node %s' % u)\n",
      "C:\\Anaconda\\lib\\site-packages\\networkx\\generators\\stochastic.py:56: UserWarning: zero out-degree for node 3684156022\n",
      "  warnings.warn('zero out-degree for node %s' % u)\n",
      "C:\\Anaconda\\lib\\site-packages\\networkx\\generators\\stochastic.py:56: UserWarning: zero out-degree for node 4254973256\n",
      "  warnings.warn('zero out-degree for node %s' % u)\n",
      "C:\\Anaconda\\lib\\site-packages\\networkx\\generators\\stochastic.py:56: UserWarning: zero out-degree for node 147181528\n",
      "  warnings.warn('zero out-degree for node %s' % u)\n",
      "C:\\Anaconda\\lib\\site-packages\\networkx\\generators\\stochastic.py:56: UserWarning: zero out-degree for node 147191328\n",
      "  warnings.warn('zero out-degree for node %s' % u)\n"
     ]
    }
   ],
   "source": [
    "#sample = list(range(0, len(df), int(len(df)/100)))\n",
    "#stats = df.iloc[sample].apply(load_graph_get_stats, axis=1)\n",
    "stats = df.apply(load_graph_get_stats, axis=1)"
   ]
  },
  {
   "cell_type": "code",
   "execution_count": 8,
   "metadata": {
    "collapsed": false
   },
   "outputs": [
    {
     "name": "stdout",
     "output_type": "stream",
     "text": [
      "19655\n"
     ]
    },
    {
     "data": {
      "text/plain": [
       "8030.371987581253"
      ]
     },
     "execution_count": 8,
     "metadata": {},
     "output_type": "execute_result"
    }
   ],
   "source": [
    "stats.to_csv('stats_every_city.csv', encoding='utf-8', index=False)\n",
    "print(len(stats))\n",
    "stats['time'].sum()"
   ]
  },
  {
   "cell_type": "code",
   "execution_count": null,
   "metadata": {
    "collapsed": true
   },
   "outputs": [],
   "source": []
  }
 ],
 "metadata": {
  "anaconda-cloud": {},
  "kernelspec": {
   "display_name": "Python [conda root]",
   "language": "python",
   "name": "conda-root-py"
  },
  "language_info": {
   "codemirror_mode": {
    "name": "ipython",
    "version": 3
   },
   "file_extension": ".py",
   "mimetype": "text/x-python",
   "name": "python",
   "nbconvert_exporter": "python",
   "pygments_lexer": "ipython3",
   "version": "3.5.2"
  }
 },
 "nbformat": 4,
 "nbformat_minor": 1
}
