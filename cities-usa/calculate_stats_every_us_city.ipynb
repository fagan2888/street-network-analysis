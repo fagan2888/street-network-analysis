{
 "cells": [
  {
   "cell_type": "code",
   "execution_count": 1,
   "metadata": {
    "collapsed": true
   },
   "outputs": [],
   "source": [
    "import osmnx as ox, pandas as pd, networkx as nx, time, geopandas as gpd, os, json\n",
    "%matplotlib inline\n",
    "ox.config(use_cache=True, log_file=True, log_console=True, log_filename='calculate_stats_every_us_city',\n",
    "          data_folder='G:/Geoff/osmnx/cities-usa', cache_folder='G:/Geoff/osmnx/cache/cities-usa')"
   ]
  },
  {
   "cell_type": "code",
   "execution_count": 2,
   "metadata": {
    "collapsed": false
   },
   "outputs": [],
   "source": [
    "data_folder = 'G:/Geoff/osmnx/cities-usa/output'\n",
    "shp_folder = 'input_data/places'"
   ]
  },
  {
   "cell_type": "markdown",
   "metadata": {},
   "source": [
    "## Make a DataFrame of all the cities that have .graphml files saved in the folder"
   ]
  },
  {
   "cell_type": "code",
   "execution_count": 3,
   "metadata": {
    "collapsed": false
   },
   "outputs": [],
   "source": [
    "places = []\n",
    "for state_folder in os.listdir(data_folder):\n",
    "    for city_file in os.listdir('{}/{}'.format(data_folder, state_folder)):\n",
    "        if '.graphml' in city_file:\n",
    "            data = {}\n",
    "            data['state_folder'] = state_folder\n",
    "            data['state_fips'] = state_folder.split('_')[0]\n",
    "            data['state'] = state_folder.split('_')[1]\n",
    "            data['city_file'] = city_file\n",
    "            data['geoid'] = city_file.split('_')[0]\n",
    "            data['city'] = city_file.strip('_{}'.format(data['geoid'])).replace('.graphml', '').replace('_', ' ')\n",
    "            places.append(data)\n",
    "\n",
    "df = pd.DataFrame(places)"
   ]
  },
  {
   "cell_type": "markdown",
   "metadata": {},
   "source": [
    "## Get land area data from shapefiles and merge into DataFrame"
   ]
  },
  {
   "cell_type": "code",
   "execution_count": 4,
   "metadata": {
    "collapsed": false
   },
   "outputs": [],
   "source": [
    "# load each state shapefile and get the geoid and aland for each city row\n",
    "gdf = gpd.GeoDataFrame()\n",
    "for state_fips in df['state_fips'].unique():\n",
    "    path = '{}/tl_2016_{}_place'.format(shp_folder, state_fips)\n",
    "    gdf = gdf.append(gpd.read_file(path)[['GEOID', 'ALAND']])\n",
    "\n",
    "# merge aland values into dataframe, on geoid\n",
    "gdf = gdf.rename(columns=str.lower)\n",
    "df = pd.merge(df, gdf, how='left', on='geoid')"
   ]
  },
  {
   "cell_type": "code",
   "execution_count": 5,
   "metadata": {
    "collapsed": false
   },
   "outputs": [
    {
     "name": "stdout",
     "output_type": "stream",
     "text": [
      "19655\n"
     ]
    },
    {
     "data": {
      "text/html": [
       "<div>\n",
       "<table border=\"1\" class=\"dataframe\">\n",
       "  <thead>\n",
       "    <tr style=\"text-align: right;\">\n",
       "      <th></th>\n",
       "      <th>city</th>\n",
       "      <th>city_file</th>\n",
       "      <th>geoid</th>\n",
       "      <th>state</th>\n",
       "      <th>state_fips</th>\n",
       "      <th>state_folder</th>\n",
       "      <th>aland</th>\n",
       "    </tr>\n",
       "  </thead>\n",
       "  <tbody>\n",
       "    <tr>\n",
       "      <th>0</th>\n",
       "      <td>Abbeville</td>\n",
       "      <td>0100124_Abbeville.graphml</td>\n",
       "      <td>0100124</td>\n",
       "      <td>AL</td>\n",
       "      <td>01</td>\n",
       "      <td>01_AL</td>\n",
       "      <td>40255362</td>\n",
       "    </tr>\n",
       "    <tr>\n",
       "      <th>1</th>\n",
       "      <td>Adamsville</td>\n",
       "      <td>0100460_Adamsville.graphml</td>\n",
       "      <td>0100460</td>\n",
       "      <td>AL</td>\n",
       "      <td>01</td>\n",
       "      <td>01_AL</td>\n",
       "      <td>65064935</td>\n",
       "    </tr>\n",
       "    <tr>\n",
       "      <th>2</th>\n",
       "      <td>Addison</td>\n",
       "      <td>0100484_Addison.graphml</td>\n",
       "      <td>0100484</td>\n",
       "      <td>AL</td>\n",
       "      <td>01</td>\n",
       "      <td>01_AL</td>\n",
       "      <td>9753292</td>\n",
       "    </tr>\n",
       "    <tr>\n",
       "      <th>3</th>\n",
       "      <td>Akron</td>\n",
       "      <td>0100676_Akron.graphml</td>\n",
       "      <td>0100676</td>\n",
       "      <td>AL</td>\n",
       "      <td>01</td>\n",
       "      <td>01_AL</td>\n",
       "      <td>1776164</td>\n",
       "    </tr>\n",
       "    <tr>\n",
       "      <th>4</th>\n",
       "      <td>Alabaster</td>\n",
       "      <td>0100820_Alabaster.graphml</td>\n",
       "      <td>0100820</td>\n",
       "      <td>AL</td>\n",
       "      <td>01</td>\n",
       "      <td>01_AL</td>\n",
       "      <td>65079075</td>\n",
       "    </tr>\n",
       "  </tbody>\n",
       "</table>\n",
       "</div>"
      ],
      "text/plain": [
       "         city                   city_file    geoid state state_fips  \\\n",
       "0   Abbeville   0100124_Abbeville.graphml  0100124    AL         01   \n",
       "1  Adamsville  0100460_Adamsville.graphml  0100460    AL         01   \n",
       "2     Addison     0100484_Addison.graphml  0100484    AL         01   \n",
       "3       Akron       0100676_Akron.graphml  0100676    AL         01   \n",
       "4   Alabaster   0100820_Alabaster.graphml  0100820    AL         01   \n",
       "\n",
       "  state_folder     aland  \n",
       "0        01_AL  40255362  \n",
       "1        01_AL  65064935  \n",
       "2        01_AL   9753292  \n",
       "3        01_AL   1776164  \n",
       "4        01_AL  65079075  "
      ]
     },
     "execution_count": 5,
     "metadata": {},
     "output_type": "execute_result"
    }
   ],
   "source": [
    "print(len(df))\n",
    "df.head()"
   ]
  },
  {
   "cell_type": "markdown",
   "metadata": {},
   "source": [
    "## Load graph and calculate stats for each city"
   ]
  },
  {
   "cell_type": "code",
   "execution_count": 6,
   "metadata": {
    "collapsed": true
   },
   "outputs": [],
   "source": [
    "def load_graph_get_stats(row):\n",
    "    \n",
    "    try:\n",
    "        start_time = time.time()\n",
    "        folder = '{}/{}'.format(data_folder, row['state_folder'])\n",
    "        G = ox.load_graphml(filename=row['city_file'], folder=folder)\n",
    "        \n",
    "        stats = ox.basic_stats(G, area=row['aland'])\n",
    "        stats['city'] = row['city']\n",
    "        stats['state'] = row['state']\n",
    "        stats['geoid'] = row['geoid']\n",
    "        stats['area'] = row['aland']\n",
    "        stats['time'] = time.time()-start_time\n",
    "        \n",
    "        return pd.Series(stats)\n",
    "\n",
    "    except Exception as e:\n",
    "        print('{}, {} failed: {}'.format(row['city'], row['state'], e))\n",
    "        return pd.Series()"
   ]
  },
  {
   "cell_type": "code",
   "execution_count": 7,
   "metadata": {
    "collapsed": false
   },
   "outputs": [],
   "source": [
    "#sample = list(range(0, len(df), int(len(df)/100)))\n",
    "#stats = df.iloc[sample].apply(load_graph_get_stats, axis=1)\n",
    "stats = df.apply(load_graph_get_stats, axis=1)"
   ]
  },
  {
   "cell_type": "code",
   "execution_count": 8,
   "metadata": {
    "collapsed": false
   },
   "outputs": [
    {
     "name": "stdout",
     "output_type": "stream",
     "text": [
      "19655\n"
     ]
    },
    {
     "data": {
      "text/plain": [
       "4824.146021127701"
      ]
     },
     "execution_count": 8,
     "metadata": {},
     "output_type": "execute_result"
    }
   ],
   "source": [
    "stats.to_csv('stats_every_city.csv', encoding='utf-8', index=False)\n",
    "print(len(stats))\n",
    "stats['time'].sum()"
   ]
  },
  {
   "cell_type": "code",
   "execution_count": null,
   "metadata": {
    "collapsed": true
   },
   "outputs": [],
   "source": []
  }
 ],
 "metadata": {
  "anaconda-cloud": {},
  "kernelspec": {
   "display_name": "Python [conda root]",
   "language": "python",
   "name": "conda-root-py"
  },
  "language_info": {
   "codemirror_mode": {
    "name": "ipython",
    "version": 3
   },
   "file_extension": ".py",
   "mimetype": "text/x-python",
   "name": "python",
   "nbconvert_exporter": "python",
   "pygments_lexer": "ipython3",
   "version": "3.5.2"
  }
 },
 "nbformat": 4,
 "nbformat_minor": 1
}
