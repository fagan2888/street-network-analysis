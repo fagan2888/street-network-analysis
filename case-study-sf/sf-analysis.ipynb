{
 "cells": [
  {
   "cell_type": "code",
   "execution_count": 1,
   "metadata": {
    "collapsed": true
   },
   "outputs": [],
   "source": [
    "import osmnx as ox, networkx as nx, pandas as pd, geopandas as gpd, time, matplotlib.pyplot as plt, math, ast, re\n",
    "import matplotlib.cm as cm\n",
    "from matplotlib.collections import PatchCollection\n",
    "from descartes import PolygonPatch\n",
    "from shapely.geometry import Point, Polygon, MultiPolygon\n",
    "import statsmodels.api as sm, numpy as np\n",
    "from geopy.distance import great_circle\n",
    "from shapely.geometry import Polygon\n",
    "import ast\n",
    "%matplotlib inline\n",
    "ox.config(use_cache=True, log_console=True)"
   ]
  },
  {
   "cell_type": "code",
   "execution_count": 2,
   "metadata": {
    "collapsed": true
   },
   "outputs": [],
   "source": [
    "df = pd.read_csv('data/sf-nhoods.csv')"
   ]
  },
  {
   "cell_type": "code",
   "execution_count": 6,
   "metadata": {
    "collapsed": false
   },
   "outputs": [
    {
     "data": {
      "text/plain": [
       "0      50.627\n",
       "1     126.015\n",
       "2     101.500\n",
       "3     115.232\n",
       "4      90.274\n",
       "5      48.109\n",
       "6      93.391\n",
       "7      73.048\n",
       "8      66.797\n",
       "9     109.849\n",
       "10     75.946\n",
       "11     72.760\n",
       "12     62.161\n",
       "13     51.855\n",
       "14     99.975\n",
       "15     90.866\n",
       "16     81.714\n",
       "17     79.400\n",
       "18     61.278\n",
       "19     76.646\n",
       "20    102.932\n",
       "21     63.566\n",
       "22     52.799\n",
       "23     74.978\n",
       "24     56.861\n",
       "25     64.169\n",
       "26     78.643\n",
       "27     96.791\n",
       "28     22.984\n",
       "29     67.425\n",
       "30     61.518\n",
       "31     62.003\n",
       "32     99.206\n",
       "33    102.753\n",
       "Name: intersection_density_km, dtype: float64"
      ]
     },
     "execution_count": 6,
     "metadata": {},
     "output_type": "execute_result"
    }
   ],
   "source": [
    "df['intersection_density_km']"
   ]
  },
  {
   "cell_type": "code",
   "execution_count": null,
   "metadata": {
    "collapsed": true
   },
   "outputs": [],
   "source": []
  }
 ],
 "metadata": {
  "anaconda-cloud": {},
  "kernelspec": {
   "display_name": "Python [conda root]",
   "language": "python",
   "name": "conda-root-py"
  },
  "language_info": {
   "codemirror_mode": {
    "name": "ipython",
    "version": 3
   },
   "file_extension": ".py",
   "mimetype": "text/x-python",
   "name": "python",
   "nbconvert_exporter": "python",
   "pygments_lexer": "ipython3",
   "version": "3.5.2"
  }
 },
 "nbformat": 4,
 "nbformat_minor": 1
}
